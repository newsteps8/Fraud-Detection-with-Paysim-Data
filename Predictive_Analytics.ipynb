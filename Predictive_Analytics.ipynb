{
  "nbformat": 4,
  "nbformat_minor": 5,
  "metadata": {
    "accelerator": "GPU",
    "colab": {
      "name": "Predictive_Analytics.ipynb",
      "provenance": [],
      "collapsed_sections": []
    },
    "kernelspec": {
      "display_name": "Python 3",
      "language": "python",
      "name": "python3"
    },
    "language_info": {
      "codemirror_mode": {
        "name": "ipython",
        "version": 3
      },
      "file_extension": ".py",
      "mimetype": "text/x-python",
      "name": "python",
      "nbconvert_exporter": "python",
      "pygments_lexer": "ipython3",
      "version": "3.9.2"
    }
  },
  "cells": [
    {
      "cell_type": "code",
      "metadata": {
        "colab": {
          "base_uri": "https://localhost:8080/"
        },
        "id": "akGIH30FvoI9",
        "outputId": "833bef64-eec3-4df9-d1e4-139a2e07ff28"
      },
      "source": [
        "from google.colab import drive\n",
        "drive.mount('/content/drive')"
      ],
      "id": "akGIH30FvoI9",
      "execution_count": null,
      "outputs": [
        {
          "output_type": "stream",
          "text": [
            "Mounted at /content/drive\n"
          ],
          "name": "stdout"
        }
      ]
    },
    {
      "cell_type": "code",
      "metadata": {
        "id": "DOFGMpesvwFM"
      },
      "source": [
        "import os\n",
        "os.chdir('/content/drive/My Drive/')"
      ],
      "id": "DOFGMpesvwFM",
      "execution_count": null,
      "outputs": []
    },
    {
      "cell_type": "markdown",
      "metadata": {
        "id": "42041953-9f19-43e2-8a37-73d2d8045848"
      },
      "source": [
        "**Data Loading and Import Libraries**"
      ],
      "id": "42041953-9f19-43e2-8a37-73d2d8045848"
    },
    {
      "cell_type": "code",
      "metadata": {
        "id": "98842d6a-6644-46dc-875c-32d547718d6c"
      },
      "source": [
        "import pandas as pd\n",
        "import numpy as np\n",
        "%matplotlib inline\n",
        "import matplotlib.pyplot as plt\n",
        "import matplotlib.lines as mlines\n",
        "from mpl_toolkits.mplot3d import Axes3D\n",
        "import seaborn as sns\n",
        "from sklearn.model_selection import train_test_split, learning_curve\n",
        "from sklearn.metrics import average_precision_score\n",
        "from xgboost.sklearn import XGBClassifier\n",
        "from xgboost import plot_importance, to_graphviz"
      ],
      "id": "98842d6a-6644-46dc-875c-32d547718d6c",
      "execution_count": null,
      "outputs": []
    },
    {
      "cell_type": "code",
      "metadata": {
        "colab": {
          "base_uri": "https://localhost:8080/",
          "height": 204
        },
        "id": "c85e34a0-4f99-4dd1-8ca6-fb1fe2bb4828",
        "outputId": "1af6e57d-7bbb-40f0-850f-77ee52681bbb"
      },
      "source": [
        "# load data\n",
        "import pandas as pd\n",
        "\n",
        "df = pd.read_csv(\"/content/drive/My Drive/fraud_detection_data.csv\")\n",
        "df.head()"
      ],
      "id": "c85e34a0-4f99-4dd1-8ca6-fb1fe2bb4828",
      "execution_count": null,
      "outputs": [
        {
          "output_type": "execute_result",
          "data": {
            "text/html": [
              "<div>\n",
              "<style scoped>\n",
              "    .dataframe tbody tr th:only-of-type {\n",
              "        vertical-align: middle;\n",
              "    }\n",
              "\n",
              "    .dataframe tbody tr th {\n",
              "        vertical-align: top;\n",
              "    }\n",
              "\n",
              "    .dataframe thead th {\n",
              "        text-align: right;\n",
              "    }\n",
              "</style>\n",
              "<table border=\"1\" class=\"dataframe\">\n",
              "  <thead>\n",
              "    <tr style=\"text-align: right;\">\n",
              "      <th></th>\n",
              "      <th>step</th>\n",
              "      <th>type</th>\n",
              "      <th>amount</th>\n",
              "      <th>nameOrig</th>\n",
              "      <th>oldbalanceOrg</th>\n",
              "      <th>newbalanceOrig</th>\n",
              "      <th>nameDest</th>\n",
              "      <th>oldbalanceDest</th>\n",
              "      <th>newbalanceDest</th>\n",
              "      <th>isFraud</th>\n",
              "      <th>isFlaggedFraud</th>\n",
              "    </tr>\n",
              "  </thead>\n",
              "  <tbody>\n",
              "    <tr>\n",
              "      <th>0</th>\n",
              "      <td>1</td>\n",
              "      <td>PAYMENT</td>\n",
              "      <td>9839.64</td>\n",
              "      <td>C1231006815</td>\n",
              "      <td>170136.0</td>\n",
              "      <td>160296.36</td>\n",
              "      <td>M1979787155</td>\n",
              "      <td>0.0</td>\n",
              "      <td>0.0</td>\n",
              "      <td>0</td>\n",
              "      <td>0</td>\n",
              "    </tr>\n",
              "    <tr>\n",
              "      <th>1</th>\n",
              "      <td>1</td>\n",
              "      <td>PAYMENT</td>\n",
              "      <td>1864.28</td>\n",
              "      <td>C1666544295</td>\n",
              "      <td>21249.0</td>\n",
              "      <td>19384.72</td>\n",
              "      <td>M2044282225</td>\n",
              "      <td>0.0</td>\n",
              "      <td>0.0</td>\n",
              "      <td>0</td>\n",
              "      <td>0</td>\n",
              "    </tr>\n",
              "    <tr>\n",
              "      <th>2</th>\n",
              "      <td>1</td>\n",
              "      <td>TRANSFER</td>\n",
              "      <td>181.00</td>\n",
              "      <td>C1305486145</td>\n",
              "      <td>181.0</td>\n",
              "      <td>0.00</td>\n",
              "      <td>C553264065</td>\n",
              "      <td>0.0</td>\n",
              "      <td>0.0</td>\n",
              "      <td>1</td>\n",
              "      <td>0</td>\n",
              "    </tr>\n",
              "    <tr>\n",
              "      <th>3</th>\n",
              "      <td>1</td>\n",
              "      <td>CASH_OUT</td>\n",
              "      <td>181.00</td>\n",
              "      <td>C840083671</td>\n",
              "      <td>181.0</td>\n",
              "      <td>0.00</td>\n",
              "      <td>C38997010</td>\n",
              "      <td>21182.0</td>\n",
              "      <td>0.0</td>\n",
              "      <td>1</td>\n",
              "      <td>0</td>\n",
              "    </tr>\n",
              "    <tr>\n",
              "      <th>4</th>\n",
              "      <td>1</td>\n",
              "      <td>PAYMENT</td>\n",
              "      <td>11668.14</td>\n",
              "      <td>C2048537720</td>\n",
              "      <td>41554.0</td>\n",
              "      <td>29885.86</td>\n",
              "      <td>M1230701703</td>\n",
              "      <td>0.0</td>\n",
              "      <td>0.0</td>\n",
              "      <td>0</td>\n",
              "      <td>0</td>\n",
              "    </tr>\n",
              "  </tbody>\n",
              "</table>\n",
              "</div>"
            ],
            "text/plain": [
              "   step      type    amount  ... newbalanceDest  isFraud  isFlaggedFraud\n",
              "0     1   PAYMENT   9839.64  ...            0.0        0               0\n",
              "1     1   PAYMENT   1864.28  ...            0.0        0               0\n",
              "2     1  TRANSFER    181.00  ...            0.0        1               0\n",
              "3     1  CASH_OUT    181.00  ...            0.0        1               0\n",
              "4     1   PAYMENT  11668.14  ...            0.0        0               0\n",
              "\n",
              "[5 rows x 11 columns]"
            ]
          },
          "metadata": {
            "tags": []
          },
          "execution_count": 3
        }
      ]
    },
    {
      "cell_type": "code",
      "metadata": {
        "colab": {
          "base_uri": "https://localhost:8080/",
          "height": 297
        },
        "id": "10a7d269-6f9f-4940-a629-f6e89b2d46fe",
        "outputId": "bcfa70f6-7216-439e-9de9-c24dad963a4f"
      },
      "source": [
        "#dataframe feature values description\n",
        "df.describe()"
      ],
      "id": "10a7d269-6f9f-4940-a629-f6e89b2d46fe",
      "execution_count": null,
      "outputs": [
        {
          "output_type": "execute_result",
          "data": {
            "text/html": [
              "<div>\n",
              "<style scoped>\n",
              "    .dataframe tbody tr th:only-of-type {\n",
              "        vertical-align: middle;\n",
              "    }\n",
              "\n",
              "    .dataframe tbody tr th {\n",
              "        vertical-align: top;\n",
              "    }\n",
              "\n",
              "    .dataframe thead th {\n",
              "        text-align: right;\n",
              "    }\n",
              "</style>\n",
              "<table border=\"1\" class=\"dataframe\">\n",
              "  <thead>\n",
              "    <tr style=\"text-align: right;\">\n",
              "      <th></th>\n",
              "      <th>step</th>\n",
              "      <th>amount</th>\n",
              "      <th>oldbalanceOrg</th>\n",
              "      <th>newbalanceOrig</th>\n",
              "      <th>oldbalanceDest</th>\n",
              "      <th>newbalanceDest</th>\n",
              "      <th>isFraud</th>\n",
              "      <th>isFlaggedFraud</th>\n",
              "    </tr>\n",
              "  </thead>\n",
              "  <tbody>\n",
              "    <tr>\n",
              "      <th>count</th>\n",
              "      <td>6.362620e+06</td>\n",
              "      <td>6.362620e+06</td>\n",
              "      <td>6.362620e+06</td>\n",
              "      <td>6.362620e+06</td>\n",
              "      <td>6.362620e+06</td>\n",
              "      <td>6.362620e+06</td>\n",
              "      <td>6.362620e+06</td>\n",
              "      <td>6.362620e+06</td>\n",
              "    </tr>\n",
              "    <tr>\n",
              "      <th>mean</th>\n",
              "      <td>2.433972e+02</td>\n",
              "      <td>1.798619e+05</td>\n",
              "      <td>8.338831e+05</td>\n",
              "      <td>8.551137e+05</td>\n",
              "      <td>1.100702e+06</td>\n",
              "      <td>1.224996e+06</td>\n",
              "      <td>1.290820e-03</td>\n",
              "      <td>2.514687e-06</td>\n",
              "    </tr>\n",
              "    <tr>\n",
              "      <th>std</th>\n",
              "      <td>1.423320e+02</td>\n",
              "      <td>6.038582e+05</td>\n",
              "      <td>2.888243e+06</td>\n",
              "      <td>2.924049e+06</td>\n",
              "      <td>3.399180e+06</td>\n",
              "      <td>3.674129e+06</td>\n",
              "      <td>3.590480e-02</td>\n",
              "      <td>1.585775e-03</td>\n",
              "    </tr>\n",
              "    <tr>\n",
              "      <th>min</th>\n",
              "      <td>1.000000e+00</td>\n",
              "      <td>0.000000e+00</td>\n",
              "      <td>0.000000e+00</td>\n",
              "      <td>0.000000e+00</td>\n",
              "      <td>0.000000e+00</td>\n",
              "      <td>0.000000e+00</td>\n",
              "      <td>0.000000e+00</td>\n",
              "      <td>0.000000e+00</td>\n",
              "    </tr>\n",
              "    <tr>\n",
              "      <th>25%</th>\n",
              "      <td>1.560000e+02</td>\n",
              "      <td>1.338957e+04</td>\n",
              "      <td>0.000000e+00</td>\n",
              "      <td>0.000000e+00</td>\n",
              "      <td>0.000000e+00</td>\n",
              "      <td>0.000000e+00</td>\n",
              "      <td>0.000000e+00</td>\n",
              "      <td>0.000000e+00</td>\n",
              "    </tr>\n",
              "    <tr>\n",
              "      <th>50%</th>\n",
              "      <td>2.390000e+02</td>\n",
              "      <td>7.487194e+04</td>\n",
              "      <td>1.420800e+04</td>\n",
              "      <td>0.000000e+00</td>\n",
              "      <td>1.327057e+05</td>\n",
              "      <td>2.146614e+05</td>\n",
              "      <td>0.000000e+00</td>\n",
              "      <td>0.000000e+00</td>\n",
              "    </tr>\n",
              "    <tr>\n",
              "      <th>75%</th>\n",
              "      <td>3.350000e+02</td>\n",
              "      <td>2.087215e+05</td>\n",
              "      <td>1.073152e+05</td>\n",
              "      <td>1.442584e+05</td>\n",
              "      <td>9.430367e+05</td>\n",
              "      <td>1.111909e+06</td>\n",
              "      <td>0.000000e+00</td>\n",
              "      <td>0.000000e+00</td>\n",
              "    </tr>\n",
              "    <tr>\n",
              "      <th>max</th>\n",
              "      <td>7.430000e+02</td>\n",
              "      <td>9.244552e+07</td>\n",
              "      <td>5.958504e+07</td>\n",
              "      <td>4.958504e+07</td>\n",
              "      <td>3.560159e+08</td>\n",
              "      <td>3.561793e+08</td>\n",
              "      <td>1.000000e+00</td>\n",
              "      <td>1.000000e+00</td>\n",
              "    </tr>\n",
              "  </tbody>\n",
              "</table>\n",
              "</div>"
            ],
            "text/plain": [
              "               step        amount  ...       isFraud  isFlaggedFraud\n",
              "count  6.362620e+06  6.362620e+06  ...  6.362620e+06    6.362620e+06\n",
              "mean   2.433972e+02  1.798619e+05  ...  1.290820e-03    2.514687e-06\n",
              "std    1.423320e+02  6.038582e+05  ...  3.590480e-02    1.585775e-03\n",
              "min    1.000000e+00  0.000000e+00  ...  0.000000e+00    0.000000e+00\n",
              "25%    1.560000e+02  1.338957e+04  ...  0.000000e+00    0.000000e+00\n",
              "50%    2.390000e+02  7.487194e+04  ...  0.000000e+00    0.000000e+00\n",
              "75%    3.350000e+02  2.087215e+05  ...  0.000000e+00    0.000000e+00\n",
              "max    7.430000e+02  9.244552e+07  ...  1.000000e+00    1.000000e+00\n",
              "\n",
              "[8 rows x 8 columns]"
            ]
          },
          "metadata": {
            "tags": []
          },
          "execution_count": 6
        }
      ]
    },
    {
      "cell_type": "code",
      "metadata": {
        "id": "672680bd-47dc-4547-8fbc-0d1c86d45fe8",
        "outputId": "948da0ee-84d5-4985-b1fa-fefac8769985"
      },
      "source": [
        "# check data information\n",
        "df.info()"
      ],
      "id": "672680bd-47dc-4547-8fbc-0d1c86d45fe8",
      "execution_count": null,
      "outputs": [
        {
          "output_type": "stream",
          "text": [
            "<class 'pandas.core.frame.DataFrame'>\n",
            "RangeIndex: 6362620 entries, 0 to 6362619\n",
            "Data columns (total 11 columns):\n",
            " #   Column          Dtype  \n",
            "---  ------          -----  \n",
            " 0   step            int64  \n",
            " 1   type            object \n",
            " 2   amount          float64\n",
            " 3   nameOrig        object \n",
            " 4   oldbalanceOrg   float64\n",
            " 5   newbalanceOrig  float64\n",
            " 6   nameDest        object \n",
            " 7   oldbalanceDest  float64\n",
            " 8   newbalanceDest  float64\n",
            " 9   isFraud         int64  \n",
            " 10  isFlaggedFraud  int64  \n",
            "dtypes: float64(5), int64(3), object(3)\n",
            "memory usage: 534.0+ MB\n"
          ],
          "name": "stdout"
        }
      ]
    },
    {
      "cell_type": "markdown",
      "metadata": {
        "id": "d7d7ee6a-7fab-448d-9756-ead77aa3a6ac"
      },
      "source": [
        "Test if there any missing values in DataFrame. "
      ],
      "id": "d7d7ee6a-7fab-448d-9756-ead77aa3a6ac"
    },
    {
      "cell_type": "code",
      "metadata": {
        "colab": {
          "base_uri": "https://localhost:8080/"
        },
        "id": "52eeba29-0239-4e1d-a6dc-3a13fee153d1",
        "outputId": "cf4b5780-c697-4dc7-92ca-cb5dac2ba365"
      },
      "source": [
        "df.isnull().values.any()"
      ],
      "id": "52eeba29-0239-4e1d-a6dc-3a13fee153d1",
      "execution_count": null,
      "outputs": [
        {
          "output_type": "execute_result",
          "data": {
            "text/plain": [
              "False"
            ]
          },
          "metadata": {
            "tags": []
          },
          "execution_count": 6
        }
      ]
    },
    {
      "cell_type": "code",
      "metadata": {
        "id": "f02e20fc-7b65-4482-a409-ecfe39f783b5"
      },
      "source": [
        "df.drop_duplicates(inplace=True)"
      ],
      "id": "f02e20fc-7b65-4482-a409-ecfe39f783b5",
      "execution_count": null,
      "outputs": []
    },
    {
      "cell_type": "markdown",
      "metadata": {
        "id": "16fa3bbd-f084-4d2d-93cb-a8ef4e6bbb3b"
      },
      "source": [
        "**mapping categorical values to integer values**"
      ],
      "id": "16fa3bbd-f084-4d2d-93cb-a8ef4e6bbb3b"
    },
    {
      "cell_type": "code",
      "metadata": {
        "id": "5b170c1e-d728-43b0-a9dc-973ac1aa3051"
      },
      "source": [
        "from sklearn.preprocessing import OrdinalEncoder\n",
        "ord_enc = OrdinalEncoder()\n",
        "df[\"type\"] = ord_enc.fit_transform(df[[\"type\"]])"
      ],
      "id": "5b170c1e-d728-43b0-a9dc-973ac1aa3051",
      "execution_count": null,
      "outputs": []
    },
    {
      "cell_type": "code",
      "metadata": {
        "id": "879b008d-7c82-4171-b13a-0794ac181bea"
      },
      "source": [
        "\n",
        "df[\"nameOrig\"] = ord_enc.fit_transform(df[[\"nameOrig\"]])\n",
        "df[\"nameDest\"] = ord_enc.fit_transform(df[[\"nameDest\"]])"
      ],
      "id": "879b008d-7c82-4171-b13a-0794ac181bea",
      "execution_count": null,
      "outputs": []
    },
    {
      "cell_type": "code",
      "metadata": {
        "colab": {
          "base_uri": "https://localhost:8080/",
          "height": 204
        },
        "id": "80aa6a92-b190-486f-81f2-24154cb4cdda",
        "outputId": "e582888c-6abe-4a53-a545-0f8a189426ae"
      },
      "source": [
        "df.head()"
      ],
      "id": "80aa6a92-b190-486f-81f2-24154cb4cdda",
      "execution_count": null,
      "outputs": [
        {
          "output_type": "execute_result",
          "data": {
            "text/html": [
              "<div>\n",
              "<style scoped>\n",
              "    .dataframe tbody tr th:only-of-type {\n",
              "        vertical-align: middle;\n",
              "    }\n",
              "\n",
              "    .dataframe tbody tr th {\n",
              "        vertical-align: top;\n",
              "    }\n",
              "\n",
              "    .dataframe thead th {\n",
              "        text-align: right;\n",
              "    }\n",
              "</style>\n",
              "<table border=\"1\" class=\"dataframe\">\n",
              "  <thead>\n",
              "    <tr style=\"text-align: right;\">\n",
              "      <th></th>\n",
              "      <th>step</th>\n",
              "      <th>amount</th>\n",
              "      <th>nameOrig</th>\n",
              "      <th>oldbalanceOrg</th>\n",
              "      <th>nameDest</th>\n",
              "      <th>oldbalanceDest</th>\n",
              "      <th>newbalanceDest</th>\n",
              "      <th>isFraud</th>\n",
              "    </tr>\n",
              "  </thead>\n",
              "  <tbody>\n",
              "    <tr>\n",
              "      <th>2</th>\n",
              "      <td>1</td>\n",
              "      <td>181.00</td>\n",
              "      <td>1002156.0</td>\n",
              "      <td>181.0</td>\n",
              "      <td>439685.0</td>\n",
              "      <td>0.0</td>\n",
              "      <td>0.00</td>\n",
              "      <td>1</td>\n",
              "    </tr>\n",
              "    <tr>\n",
              "      <th>3</th>\n",
              "      <td>1</td>\n",
              "      <td>181.00</td>\n",
              "      <td>5828262.0</td>\n",
              "      <td>181.0</td>\n",
              "      <td>391696.0</td>\n",
              "      <td>21182.0</td>\n",
              "      <td>0.00</td>\n",
              "      <td>1</td>\n",
              "    </tr>\n",
              "    <tr>\n",
              "      <th>15</th>\n",
              "      <td>1</td>\n",
              "      <td>229133.94</td>\n",
              "      <td>6041662.0</td>\n",
              "      <td>15325.0</td>\n",
              "      <td>417183.0</td>\n",
              "      <td>5083.0</td>\n",
              "      <td>51513.44</td>\n",
              "      <td>0</td>\n",
              "    </tr>\n",
              "    <tr>\n",
              "      <th>19</th>\n",
              "      <td>1</td>\n",
              "      <td>215310.30</td>\n",
              "      <td>2203561.0</td>\n",
              "      <td>705.0</td>\n",
              "      <td>29714.0</td>\n",
              "      <td>22425.0</td>\n",
              "      <td>0.00</td>\n",
              "      <td>0</td>\n",
              "    </tr>\n",
              "    <tr>\n",
              "      <th>24</th>\n",
              "      <td>1</td>\n",
              "      <td>311685.89</td>\n",
              "      <td>3233937.0</td>\n",
              "      <td>10835.0</td>\n",
              "      <td>552201.0</td>\n",
              "      <td>6267.0</td>\n",
              "      <td>2719172.89</td>\n",
              "      <td>0</td>\n",
              "    </tr>\n",
              "  </tbody>\n",
              "</table>\n",
              "</div>"
            ],
            "text/plain": [
              "    step     amount   nameOrig  ...  oldbalanceDest  newbalanceDest  isFraud\n",
              "2      1     181.00  1002156.0  ...             0.0            0.00        1\n",
              "3      1     181.00  5828262.0  ...         21182.0            0.00        1\n",
              "15     1  229133.94  6041662.0  ...          5083.0        51513.44        0\n",
              "19     1  215310.30  2203561.0  ...         22425.0            0.00        0\n",
              "24     1  311685.89  3233937.0  ...          6267.0      2719172.89        0\n",
              "\n",
              "[5 rows x 8 columns]"
            ]
          },
          "metadata": {
            "tags": []
          },
          "execution_count": 13
        }
      ]
    },
    {
      "cell_type": "markdown",
      "metadata": {
        "id": "61997f9e-107a-4d9b-9cc9-5d5f2071d23c"
      },
      "source": [
        "**feature selection methods**"
      ],
      "id": "61997f9e-107a-4d9b-9cc9-5d5f2071d23c"
    },
    {
      "cell_type": "markdown",
      "metadata": {
        "id": "299a53db-502f-49fe-8b6b-9b2a9a224085"
      },
      "source": [
        "**information gain**\n",
        "\n",
        "Information gain calculates the reduction in entropy from the transformation of a dataset. It can be used for feature selection by evaluating the Information gain of each variable in the context of the target variable."
      ],
      "id": "299a53db-502f-49fe-8b6b-9b2a9a224085"
    },
    {
      "cell_type": "code",
      "metadata": {
        "id": "a4b3e514-fd0a-4e05-ae88-85dee2c67757"
      },
      "source": [
        "X = df.drop(\"isFraud\",1)\n",
        "y = df.isFraud"
      ],
      "id": "a4b3e514-fd0a-4e05-ae88-85dee2c67757",
      "execution_count": null,
      "outputs": []
    },
    {
      "cell_type": "code",
      "metadata": {
        "id": "a3698368-5a83-45f7-aa71-5089ce7d4fee",
        "outputId": "daa05ee8-0f5a-4c88-e05a-42be2a1a7e91"
      },
      "source": [
        "from sklearn.feature_selection import mutual_info_classif\n",
        "X=X.astype('float32')\n",
        "y=y.astype('float32')\n",
        "importances=mutual_info_classif(X, y, discrete_features=True)"
      ],
      "id": "a3698368-5a83-45f7-aa71-5089ce7d4fee",
      "execution_count": null,
      "outputs": [
        {
          "output_type": "stream",
          "text": [
            "/usr/local/lib/python3.9/site-packages/sklearn/metrics/cluster/_supervised.py:58: UserWarning: Clustering metrics expects discrete values but received continuous values for label, and binary values for target\n",
            "  warnings.warn(msg, UserWarning)\n",
            "/usr/local/lib/python3.9/site-packages/sklearn/metrics/cluster/_supervised.py:58: UserWarning: Clustering metrics expects discrete values but received continuous values for label, and binary values for target\n",
            "  warnings.warn(msg, UserWarning)\n",
            "/usr/local/lib/python3.9/site-packages/sklearn/metrics/cluster/_supervised.py:58: UserWarning: Clustering metrics expects discrete values but received continuous values for label, and binary values for target\n",
            "  warnings.warn(msg, UserWarning)\n",
            "/usr/local/lib/python3.9/site-packages/sklearn/metrics/cluster/_supervised.py:58: UserWarning: Clustering metrics expects discrete values but received continuous values for label, and binary values for target\n",
            "  warnings.warn(msg, UserWarning)\n",
            "/usr/local/lib/python3.9/site-packages/sklearn/metrics/cluster/_supervised.py:58: UserWarning: Clustering metrics expects discrete values but received continuous values for label, and binary values for target\n",
            "  warnings.warn(msg, UserWarning)\n"
          ],
          "name": "stderr"
        }
      ]
    },
    {
      "cell_type": "code",
      "metadata": {
        "id": "8619914c-f5e0-4860-9569-6dee2d2352e6",
        "outputId": "e9b079a3-f9d6-4194-ffa6-ce5e77be7cb7"
      },
      "source": [
        "importances"
      ],
      "id": "8619914c-f5e0-4860-9569-6dee2d2352e6",
      "execution_count": null,
      "outputs": [
        {
          "output_type": "execute_result",
          "data": {
            "text/plain": [
              "array([4.68873089e-03, 1.38039937e-03, 9.45706635e-03, 9.87103998e-03,\n",
              "       9.68981785e-03, 8.84693967e-04, 7.31022523e-03, 3.75719688e-03,\n",
              "       4.80100350e-03, 1.67313483e-05])"
            ]
          },
          "metadata": {
            "tags": []
          },
          "execution_count": 46
        }
      ]
    },
    {
      "cell_type": "code",
      "metadata": {
        "id": "ddaceedb-0392-482f-b8b4-5d4def58d4b9",
        "outputId": "31db9a51-6126-4ce7-e307-4b9f1f16c1a1"
      },
      "source": [
        "feat_importances=pd.Series(importances, X.columns)\n",
        "feat_importances.plot(kind='barh',color='teal')\n",
        "plt.show()"
      ],
      "id": "ddaceedb-0392-482f-b8b4-5d4def58d4b9",
      "execution_count": null,
      "outputs": [
        {
          "output_type": "display_data",
          "data": {
            "image/png": "[encoded data removed]",
            "text/plain": [
              "<Figure size 640x480 with 1 Axes>"
            ]
          },
          "metadata": {
            "tags": []
          }
        }
      ]
    },
    {
      "cell_type": "code",
      "metadata": {
        "colab": {
          "base_uri": "https://localhost:8080/",
          "height": 204
        },
        "id": "e54dda9a-61c8-4956-8881-04aa86d65cfc",
        "outputId": "c8e989ac-36e3-4e3b-c68b-517eb3975c8d"
      },
      "source": [
        "df.head()"
      ],
      "id": "e54dda9a-61c8-4956-8881-04aa86d65cfc",
      "execution_count": null,
      "outputs": [
        {
          "output_type": "execute_result",
          "data": {
            "text/html": [
              "<div>\n",
              "<style scoped>\n",
              "    .dataframe tbody tr th:only-of-type {\n",
              "        vertical-align: middle;\n",
              "    }\n",
              "\n",
              "    .dataframe tbody tr th {\n",
              "        vertical-align: top;\n",
              "    }\n",
              "\n",
              "    .dataframe thead th {\n",
              "        text-align: right;\n",
              "    }\n",
              "</style>\n",
              "<table border=\"1\" class=\"dataframe\">\n",
              "  <thead>\n",
              "    <tr style=\"text-align: right;\">\n",
              "      <th></th>\n",
              "      <th>step</th>\n",
              "      <th>amount</th>\n",
              "      <th>nameOrig</th>\n",
              "      <th>oldbalanceOrg</th>\n",
              "      <th>nameDest</th>\n",
              "      <th>oldbalanceDest</th>\n",
              "      <th>newbalanceDest</th>\n",
              "      <th>isFraud</th>\n",
              "    </tr>\n",
              "  </thead>\n",
              "  <tbody>\n",
              "    <tr>\n",
              "      <th>2</th>\n",
              "      <td>1</td>\n",
              "      <td>181.00</td>\n",
              "      <td>1002156.0</td>\n",
              "      <td>181.0</td>\n",
              "      <td>439685.0</td>\n",
              "      <td>0.0</td>\n",
              "      <td>0.00</td>\n",
              "      <td>1</td>\n",
              "    </tr>\n",
              "    <tr>\n",
              "      <th>3</th>\n",
              "      <td>1</td>\n",
              "      <td>181.00</td>\n",
              "      <td>5828262.0</td>\n",
              "      <td>181.0</td>\n",
              "      <td>391696.0</td>\n",
              "      <td>21182.0</td>\n",
              "      <td>0.00</td>\n",
              "      <td>1</td>\n",
              "    </tr>\n",
              "    <tr>\n",
              "      <th>15</th>\n",
              "      <td>1</td>\n",
              "      <td>229133.94</td>\n",
              "      <td>6041662.0</td>\n",
              "      <td>15325.0</td>\n",
              "      <td>417183.0</td>\n",
              "      <td>5083.0</td>\n",
              "      <td>51513.44</td>\n",
              "      <td>0</td>\n",
              "    </tr>\n",
              "    <tr>\n",
              "      <th>19</th>\n",
              "      <td>1</td>\n",
              "      <td>215310.30</td>\n",
              "      <td>2203561.0</td>\n",
              "      <td>705.0</td>\n",
              "      <td>29714.0</td>\n",
              "      <td>22425.0</td>\n",
              "      <td>0.00</td>\n",
              "      <td>0</td>\n",
              "    </tr>\n",
              "    <tr>\n",
              "      <th>24</th>\n",
              "      <td>1</td>\n",
              "      <td>311685.89</td>\n",
              "      <td>3233937.0</td>\n",
              "      <td>10835.0</td>\n",
              "      <td>552201.0</td>\n",
              "      <td>6267.0</td>\n",
              "      <td>2719172.89</td>\n",
              "      <td>0</td>\n",
              "    </tr>\n",
              "  </tbody>\n",
              "</table>\n",
              "</div>"
            ],
            "text/plain": [
              "    step     amount   nameOrig  ...  oldbalanceDest  newbalanceDest  isFraud\n",
              "2      1     181.00  1002156.0  ...             0.0            0.00        1\n",
              "3      1     181.00  5828262.0  ...         21182.0            0.00        1\n",
              "15     1  229133.94  6041662.0  ...          5083.0        51513.44        0\n",
              "19     1  215310.30  2203561.0  ...         22425.0            0.00        0\n",
              "24     1  311685.89  3233937.0  ...          6267.0      2719172.89        0\n",
              "\n",
              "[5 rows x 8 columns]"
            ]
          },
          "metadata": {
            "tags": []
          },
          "execution_count": 31
        }
      ]
    },
    {
      "cell_type": "markdown",
      "metadata": {
        "id": "32d07cb4-8362-41fd-859f-f12ed0471374"
      },
      "source": [
        "**Correlation Coefficient**"
      ],
      "id": "32d07cb4-8362-41fd-859f-f12ed0471374"
    },
    {
      "cell_type": "markdown",
      "metadata": {
        "id": "91bc5006-151c-4df4-98d3-132b47be3927"
      },
      "source": [
        "Correlation is a measure of the linear relationship of 2 or more variables. Through correlation, we can predict one variable from the other. The logic behind using correlation for feature selection is that the good variables are highly correlated with the target. Furthermore, variables should be correlated with the target but should be uncorrelated among themselves."
      ],
      "id": "91bc5006-151c-4df4-98d3-132b47be3927"
    },
    {
      "cell_type": "code",
      "metadata": {
        "id": "a5d95c43-50fd-4030-add1-6d721c3b04f1",
        "outputId": "7140092f-62d6-4bf2-949b-adb4881afc93"
      },
      "source": [
        "# creation of correlation matrix\n",
        "corrM = df.corr()\n",
        "plt.figure(figsize=(10,6))\n",
        "sns.heatmap(corrM,annot=True)"
      ],
      "id": "a5d95c43-50fd-4030-add1-6d721c3b04f1",
      "execution_count": null,
      "outputs": [
        {
          "output_type": "execute_result",
          "data": {
            "text/plain": [
              "<AxesSubplot:>"
            ]
          },
          "metadata": {
            "tags": []
          },
          "execution_count": 48
        },
        {
          "output_type": "display_data",
          "data": {
            "image/png": "[encoded data removed]",
            "text/plain": [
              "<Figure size 1000x600 with 2 Axes>"
            ]
          },
          "metadata": {
            "tags": []
          }
        }
      ]
    },
    {
      "cell_type": "markdown",
      "metadata": {
        "id": "54e3d0de-32b7-4e1f-b1ec-cf3918ac5364"
      },
      "source": [
        "**Chi-square Test**"
      ],
      "id": "54e3d0de-32b7-4e1f-b1ec-cf3918ac5364"
    },
    {
      "cell_type": "markdown",
      "metadata": {
        "id": "a238f0d1-583a-4f63-a4f1-eddd1b5e3ec9"
      },
      "source": [
        "The Chi-square test is used for categorical features in a dataset. We calculate Chi-square between each feature and the target and select the desired number of features with the best Chi-square scores.\n",
        "\n"
      ],
      "id": "a238f0d1-583a-4f63-a4f1-eddd1b5e3ec9"
    },
    {
      "cell_type": "code",
      "metadata": {
        "id": "6361d0a1-2ae6-436a-b1d8-dab068267cde"
      },
      "source": [
        "from sklearn.feature_selection import chi2\n",
        "X = df.drop(\"isFraud\",1)\n",
        "y = df.isFraud\n",
        "X=X.astype('float32')\n",
        "y=y.astype('float32')\n",
        "chi_scores = chi2(X,y)\n"
      ],
      "id": "6361d0a1-2ae6-436a-b1d8-dab068267cde",
      "execution_count": null,
      "outputs": []
    },
    {
      "cell_type": "code",
      "metadata": {
        "id": "82c052e8-e03d-426f-9630-f296b7dde3f3",
        "outputId": "7c4c5da5-5edb-49a5-fbca-d9b80b2e7172"
      },
      "source": [
        "chi_scores"
      ],
      "id": "82c052e8-e03d-426f-9630-f296b7dde3f3",
      "execution_count": null,
      "outputs": [
        {
          "output_type": "execute_result",
          "data": {
            "text/plain": [
              "(array([5.28059079e+05, 2.93663069e+03, 7.58623617e+10, 1.44913424e+06,\n",
              "        6.56309030e+09, 4.22377158e+09, 2.31449109e+09, 2.31338860e+09,\n",
              "        2.00946581e+07, 1.23792173e+04]),\n",
              " array([0., 0., 0., 0., 0., 0., 0., 0., 0., 0.]))"
            ]
          },
          "metadata": {
            "tags": []
          },
          "execution_count": 50
        }
      ]
    },
    {
      "cell_type": "code",
      "metadata": {
        "id": "c6a4d9c6-4bee-4941-813b-da30a13c97d3"
      },
      "source": [
        "p_values = pd.Series(chi_scores[0],index = X.columns)\n",
        "p_values.sort_values(ascending = False , inplace = True)"
      ],
      "id": "c6a4d9c6-4bee-4941-813b-da30a13c97d3",
      "execution_count": null,
      "outputs": []
    },
    {
      "cell_type": "code",
      "metadata": {
        "id": "76b36b47-4222-4589-b689-b63a02220507",
        "outputId": "de845dce-5e7f-4dc3-b568-44402ea6811d"
      },
      "source": [
        "p_values.plot.bar()\n"
      ],
      "id": "76b36b47-4222-4589-b689-b63a02220507",
      "execution_count": null,
      "outputs": [
        {
          "output_type": "execute_result",
          "data": {
            "text/plain": [
              "<AxesSubplot:>"
            ]
          },
          "metadata": {
            "tags": []
          },
          "execution_count": 52
        },
        {
          "output_type": "display_data",
          "data": {
            "image/png": "[encoded data removed]",
            "text/plain": [
              "<Figure size 640x480 with 1 Axes>"
            ]
          },
          "metadata": {
            "tags": []
          }
        }
      ]
    },
    {
      "cell_type": "markdown",
      "metadata": {
        "id": "9PIIhSntRjHR"
      },
      "source": [
        "**Which types of transactions are fraudulent?**\n",
        "\n",
        "\n",
        "\n",
        "\n",
        "We find that of the five types of transactions, fraud occurs only in two of them: 'TRANSFER' where money is sent to a customer / fraudster and 'CASH_OUT' where money is sent to a merchant who pays the customer / fraudster in cash. Remarkably, the number of fraudulent TRANSFERs almost equals the number of fraudulent CASH_OUTs. So, fraud is committed by first transferring out funds to another account which subsequently cashes it out. "
      ],
      "id": "9PIIhSntRjHR"
    },
    {
      "cell_type": "code",
      "metadata": {
        "id": "5T56UCbmRtUP"
      },
      "source": [
        "print('\\n The types of fraudulent transactions are {}'.format(\\\n",
        "list(df.loc[df.isFraud == 1].type.drop_duplicates().values))) # only 'CASH_OUT' \n",
        "                                                             # & 'TRANSFER'\n",
        "\n",
        "dfFraudTransfer = df.loc[(df.isFraud == 1) & (df.type == 'TRANSFER')]\n",
        "dfFraudCashout = df.loc[(df.isFraud == 1) & (df.type == 'CASH_OUT')]\n",
        "\n",
        "print ('\\n The number of fraudulent TRANSFERs = {}'.\\\n",
        "       format(len(dfFraudTransfer))) # 4097\n",
        "\n",
        "print ('\\n The number of fraudulent CASH_OUTs = {}'.\\\n",
        "       format(len(dfFraudCashout))) # 4116\n"
      ],
      "id": "5T56UCbmRtUP",
      "execution_count": null,
      "outputs": []
    },
    {
      "cell_type": "markdown",
      "metadata": {
        "id": "zwuO0MR4TAV_"
      },
      "source": [
        "From the exploratory data analysis upper cell, we know that fraud only occurs in 'TRANSFER's and 'CASH_OUT's. So we assemble only the corresponding data in X for analysis.\n",
        "\n",
        "\n",
        "\n",
        "---\n",
        "\n"
      ],
      "id": "zwuO0MR4TAV_"
    },
    {
      "cell_type": "code",
      "metadata": {
        "id": "286589e6-f562-4a61-80ba-43ab16f19b19"
      },
      "source": [
        "# 4.0 is represents TRANSFER and 1.0 is represents CASH_OUT\n",
        "df = df.loc[(df.type == 4.0) | (df.type == 1.0)]"
      ],
      "id": "286589e6-f562-4a61-80ba-43ab16f19b19",
      "execution_count": null,
      "outputs": []
    },
    {
      "cell_type": "code",
      "metadata": {
        "colab": {
          "base_uri": "https://localhost:8080/",
          "height": 204
        },
        "id": "d8dd6b6b-b505-4419-bb42-45a3ec2e9f24",
        "outputId": "dafcce20-1495-48d4-d656-9f24844a8f6c"
      },
      "source": [
        "df.head()"
      ],
      "id": "d8dd6b6b-b505-4419-bb42-45a3ec2e9f24",
      "execution_count": null,
      "outputs": [
        {
          "output_type": "execute_result",
          "data": {
            "text/html": [
              "<div>\n",
              "<style scoped>\n",
              "    .dataframe tbody tr th:only-of-type {\n",
              "        vertical-align: middle;\n",
              "    }\n",
              "\n",
              "    .dataframe tbody tr th {\n",
              "        vertical-align: top;\n",
              "    }\n",
              "\n",
              "    .dataframe thead th {\n",
              "        text-align: right;\n",
              "    }\n",
              "</style>\n",
              "<table border=\"1\" class=\"dataframe\">\n",
              "  <thead>\n",
              "    <tr style=\"text-align: right;\">\n",
              "      <th></th>\n",
              "      <th>step</th>\n",
              "      <th>type</th>\n",
              "      <th>amount</th>\n",
              "      <th>nameOrig</th>\n",
              "      <th>oldbalanceOrg</th>\n",
              "      <th>newbalanceOrig</th>\n",
              "      <th>nameDest</th>\n",
              "      <th>oldbalanceDest</th>\n",
              "      <th>newbalanceDest</th>\n",
              "      <th>isFraud</th>\n",
              "      <th>isFlaggedFraud</th>\n",
              "    </tr>\n",
              "  </thead>\n",
              "  <tbody>\n",
              "    <tr>\n",
              "      <th>2</th>\n",
              "      <td>1</td>\n",
              "      <td>4.0</td>\n",
              "      <td>181.00</td>\n",
              "      <td>1002156.0</td>\n",
              "      <td>181.0</td>\n",
              "      <td>0.0</td>\n",
              "      <td>439685.0</td>\n",
              "      <td>0.0</td>\n",
              "      <td>0.00</td>\n",
              "      <td>1</td>\n",
              "      <td>0</td>\n",
              "    </tr>\n",
              "    <tr>\n",
              "      <th>3</th>\n",
              "      <td>1</td>\n",
              "      <td>1.0</td>\n",
              "      <td>181.00</td>\n",
              "      <td>5828262.0</td>\n",
              "      <td>181.0</td>\n",
              "      <td>0.0</td>\n",
              "      <td>391696.0</td>\n",
              "      <td>21182.0</td>\n",
              "      <td>0.00</td>\n",
              "      <td>1</td>\n",
              "      <td>0</td>\n",
              "    </tr>\n",
              "    <tr>\n",
              "      <th>15</th>\n",
              "      <td>1</td>\n",
              "      <td>1.0</td>\n",
              "      <td>229133.94</td>\n",
              "      <td>6041662.0</td>\n",
              "      <td>15325.0</td>\n",
              "      <td>0.0</td>\n",
              "      <td>417183.0</td>\n",
              "      <td>5083.0</td>\n",
              "      <td>51513.44</td>\n",
              "      <td>0</td>\n",
              "      <td>0</td>\n",
              "    </tr>\n",
              "    <tr>\n",
              "      <th>19</th>\n",
              "      <td>1</td>\n",
              "      <td>4.0</td>\n",
              "      <td>215310.30</td>\n",
              "      <td>2203561.0</td>\n",
              "      <td>705.0</td>\n",
              "      <td>0.0</td>\n",
              "      <td>29714.0</td>\n",
              "      <td>22425.0</td>\n",
              "      <td>0.00</td>\n",
              "      <td>0</td>\n",
              "      <td>0</td>\n",
              "    </tr>\n",
              "    <tr>\n",
              "      <th>24</th>\n",
              "      <td>1</td>\n",
              "      <td>4.0</td>\n",
              "      <td>311685.89</td>\n",
              "      <td>3233937.0</td>\n",
              "      <td>10835.0</td>\n",
              "      <td>0.0</td>\n",
              "      <td>552201.0</td>\n",
              "      <td>6267.0</td>\n",
              "      <td>2719172.89</td>\n",
              "      <td>0</td>\n",
              "      <td>0</td>\n",
              "    </tr>\n",
              "  </tbody>\n",
              "</table>\n",
              "</div>"
            ],
            "text/plain": [
              "    step  type     amount  ...  newbalanceDest  isFraud  isFlaggedFraud\n",
              "2      1   4.0     181.00  ...            0.00        1               0\n",
              "3      1   1.0     181.00  ...            0.00        1               0\n",
              "15     1   1.0  229133.94  ...        51513.44        0               0\n",
              "19     1   4.0  215310.30  ...            0.00        0               0\n",
              "24     1   4.0  311685.89  ...      2719172.89        0               0\n",
              "\n",
              "[5 rows x 11 columns]"
            ]
          },
          "metadata": {
            "tags": []
          },
          "execution_count": 11
        }
      ]
    },
    {
      "cell_type": "code",
      "metadata": {
        "colab": {
          "base_uri": "https://localhost:8080/"
        },
        "id": "1c82bbda-9d7c-4995-b94d-05889dbcec8f",
        "outputId": "a9737a7b-df74-456f-d9e1-d7c8f26d31cb"
      },
      "source": [
        "len(df)"
      ],
      "id": "1c82bbda-9d7c-4995-b94d-05889dbcec8f",
      "execution_count": null,
      "outputs": [
        {
          "output_type": "execute_result",
          "data": {
            "text/plain": [
              "2770409"
            ]
          },
          "metadata": {
            "tags": []
          },
          "execution_count": 9
        }
      ]
    },
    {
      "cell_type": "markdown",
      "metadata": {
        "id": "4ffb04e4-9935-4b72-aa03-e229abd50429"
      },
      "source": [
        "**Models and Evaluation Metrics**"
      ],
      "id": "4ffb04e4-9935-4b72-aa03-e229abd50429"
    },
    {
      "cell_type": "code",
      "metadata": {
        "id": "558a3d21-bd04-4274-a212-7692b2097443"
      },
      "source": [
        "import numpy as np\n",
        "import faiss\n",
        "y = df.isFraud\n",
        "X = df.drop(\"isFraud\",1)\n",
        "from sklearn.model_selection import train_test_split\n",
        "X_train, X_test, y_train, y_test = train_test_split(X, y, test_size=0.01, random_state=43)\n",
        "X_train=X_train.to_numpy()\n",
        "X_test=X_test.to_numpy()\n",
        "y_train=y_train.to_numpy()\n",
        "y_test=y_test.to_numpy()\n",
        "X_train = np.ascontiguousarray(X_train)\n",
        "X_test = np.ascontiguousarray(X_test)\n",
        "y_train = np.ascontiguousarray(y_train)\n",
        "y_test = np.ascontiguousarray(y_test)\n",
        "\n",
        "class FaissKNeighbors:\n",
        "    def __init__(self, k=5):\n",
        "        self.index = None\n",
        "        self.y = None\n",
        "        self.k = k\n",
        "\n",
        "    def fit(self, X, y):\n",
        "        self.index = faiss.IndexFlatL2(X.shape[1])\n",
        "        self.index.add(X.astype(np.float32))\n",
        "        self.y = y\n",
        "\n",
        "    def predict(self, X):\n",
        "        distances, indices = self.index.search(X.astype(np.float32), k=self.k)\n",
        "        votes = self.y[indices]\n",
        "        predictions = np.array([np.argmax(np.bincount(x)) for x in votes])\n",
        "        return predictions"
      ],
      "id": "558a3d21-bd04-4274-a212-7692b2097443",
      "execution_count": null,
      "outputs": []
    },
    {
      "cell_type": "code",
      "metadata": {
        "id": "50d854de-fb81-4cf9-8155-641425e28b70"
      },
      "source": [
        "fais=FaissKNeighbors(k=5)"
      ],
      "id": "50d854de-fb81-4cf9-8155-641425e28b70",
      "execution_count": null,
      "outputs": []
    },
    {
      "cell_type": "code",
      "metadata": {
        "id": "6d4345ae-f261-4ae3-8cbf-13bcd177e333"
      },
      "source": [
        "fais.fit(X_train,y_train)"
      ],
      "id": "6d4345ae-f261-4ae3-8cbf-13bcd177e333",
      "execution_count": null,
      "outputs": []
    },
    {
      "cell_type": "code",
      "metadata": {
        "id": "e3f84c31-5daa-4e0d-ac93-bf6ee62b250e"
      },
      "source": [
        "y_pred=fais.predict(X_test)"
      ],
      "id": "e3f84c31-5daa-4e0d-ac93-bf6ee62b250e",
      "execution_count": null,
      "outputs": []
    },
    {
      "cell_type": "code",
      "metadata": {
        "colab": {
          "base_uri": "https://localhost:8080/"
        },
        "id": "0d84805f-0d2f-4311-9977-d65b798f122e",
        "outputId": "b9ebaeb3-e010-4b05-e1bb-f5141a97e480"
      },
      "source": [
        "from sklearn.metrics import accuracy_score, f1_score, precision_score, recall_score, classification_report, confusion_matrix\n",
        "print(f1_score(y_test, y_pred, average=\"macro\"))"
      ],
      "id": "0d84805f-0d2f-4311-9977-d65b798f122e",
      "execution_count": null,
      "outputs": [
        {
          "output_type": "stream",
          "text": [
            "0.8164309734792922\n"
          ],
          "name": "stdout"
        }
      ]
    },
    {
      "cell_type": "code",
      "metadata": {
        "colab": {
          "base_uri": "https://localhost:8080/"
        },
        "id": "4kf1Gx_c8PkE",
        "outputId": "5a2916bf-212a-49c9-8b01-1fe2a80c87a7"
      },
      "source": [
        "pip install faiss-cpu"
      ],
      "id": "4kf1Gx_c8PkE",
      "execution_count": null,
      "outputs": [
        {
          "output_type": "stream",
          "text": [
            "Collecting faiss-cpu\n",
            "\u001b[?25l  Downloading https://files.pythonhosted.org/packages/48/0c/efd43c4feac172867409f38f07949c36602355ec7196749d10f905d09228/faiss_cpu-1.7.0-cp37-cp37m-manylinux2014_x86_64.whl (8.1MB)\n",
            "\u001b[K     |████████████████████████████████| 8.2MB 6.9MB/s \n",
            "\u001b[?25hInstalling collected packages: faiss-cpu\n",
            "Successfully installed faiss-cpu-1.7.0\n"
          ],
          "name": "stdout"
        }
      ]
    },
    {
      "cell_type": "code",
      "metadata": {
        "id": "4e9f0d89-abb9-4994-a834-b168318b78cc"
      },
      "source": [
        "pip install faiss-cpu"
      ],
      "id": "4e9f0d89-abb9-4994-a834-b168318b78cc",
      "execution_count": null,
      "outputs": []
    },
    {
      "cell_type": "markdown",
      "metadata": {
        "id": "a291dbe6-4654-447a-9cda-1ff8bbbd4012"
      },
      "source": [
        "MODEL and SCORE DEFINITIONS"
      ],
      "id": "a291dbe6-4654-447a-9cda-1ff8bbbd4012"
    },
    {
      "cell_type": "code",
      "metadata": {
        "colab": {
          "base_uri": "https://localhost:8080/",
          "height": 1000
        },
        "id": "gjV_v5ywXARm",
        "outputId": "f4275f51-a731-4f93-de57-5ef24a9c4538"
      },
      "source": [
        "# STRATIFIES K-FOLD CROSS VALIDATION { 10-fold } for KNN\n",
        "\n",
        "# Import Required Modules\n",
        "from statistics import mean, stdev\n",
        "from sklearn import preprocessing\n",
        "from sklearn.model_selection import StratifiedKFold\n",
        "from sklearn.model_selection import KFold\n",
        "from sklearn.model_selection import StratifiedShuffleSplit\n",
        "from sklearn import linear_model\n",
        "from sklearn import datasets\n",
        "from sklearn.metrics import accuracy_score, f1_score, precision_score, recall_score, classification_report, confusion_matrix\n",
        "from sklearn.metrics import roc_curve, auc, roc_auc_score\n",
        "from sklearn.model_selection import GridSearchCV\n",
        "import statistics\n",
        "import seaborn as sn\n",
        "import matplotlib.pyplot as plt\n",
        "import matplotlib.pyplot as plt2\n",
        "import matplotlib.pyplot as plt3\n",
        "import matplotlib.pyplot as plt4\n",
        "import matplotlib.pyplot as plt5\n",
        "import matplotlib.pyplot as plt6\n",
        "\n",
        "\n",
        "#Remove Least Important Features by Information Gain Feature Selection Method\n",
        "df1=df.drop('isFlaggedFraud', 1)\n",
        "df1=df.drop('type', 1)\n",
        "df1=df.drop('newbalanceOrig', 1)\n",
        "\n",
        "# FEATCHING FEATURES AND TARGET VARIABLES IN ARRAY FORMAT.\n",
        "# Input_x_Features.\n",
        "x1 = df1.drop(\"isFraud\",1)\n",
        "# Input_ y_Target_Variable.\n",
        "y1 = df1.isFraud\n",
        "\n",
        "# Feature Scaling for input features.\n",
        "x1=x1.to_numpy()\n",
        "y1=y1.to_numpy()\n",
        "\n",
        "#Remove Least Important Features by Correlation Coefficient Feature Selection Method\n",
        "df2=df.drop('nameOrig', 1)\n",
        "df2=df.drop('oldbalanceDest', 1)\n",
        "df2=df.drop('newbalanceOrig', 1)\n",
        "df2=df.drop('nameDest', 1)\n",
        "\n",
        "# FEATCHING FEATURES AND TARGET VARIABLES IN ARRAY FORMAT.\n",
        "# Input_x_Features.\n",
        "x2 = df2.drop(\"isFraud\",1)\n",
        "# Input_ y_Target_Variable.\n",
        "y2 = df2.isFraud\n",
        "\n",
        "# Feature Scaling for input features.\n",
        "x2=x2.to_numpy()\n",
        "y2=y2.to_numpy()\n",
        "\n",
        "\n",
        "#Remove Least Important Features by Chi Square Test Feature Selection Method\n",
        "df3=df.drop('nameOrig', 1)\n",
        "df3=df.drop('newbalanceDest', 1)\n",
        "df3=df.drop('type', 1)\n",
        "df3=df.drop('step', 1)\n",
        "df3=df.drop('isFlaggedFraud', 1)\n",
        "\n",
        "# FEATCHING FEATURES AND TARGET VARIABLES IN ARRAY FORMAT.\n",
        "# Input_x_Features.\n",
        "x3 = df3.drop(\"isFraud\",1)\n",
        "# Input_ y_Target_Variable.\n",
        "y3 = df3.isFraud\n",
        "\n",
        "# Feature Scaling for input features.\n",
        "x3=x3.to_numpy()\n",
        "y3=y3.to_numpy()\n",
        "\n",
        "\n",
        "# Create StratifiedKFold object.\n",
        "knn_5_IG_f1_score=[]\n",
        "knn_5_IG_precision_score=[]\n",
        "knn_5_IG_recall_score=[]\n",
        "knn_5_IG_accuracy_score=[]\n",
        "knn_5_IG_auc=[]\n",
        "\n",
        "knn_5_CC_f1_score=[]\n",
        "knn_5_CC_precision_score=[]\n",
        "knn_5_CC_recall_score=[]\n",
        "knn_5_CC_accuracy_score=[]\n",
        "knn_5_CC_auc=[]\n",
        "\n",
        "knn_5_CT_f1_score=[]\n",
        "knn_5_CT_precision_score=[]\n",
        "knn_5_CT_recall_score=[]\n",
        "knn_5_CT_accuracy_score=[]\n",
        "knn_5_CT_auc=[]\n",
        "\n",
        "knn_30_IG_f1_score=[]\n",
        "knn_30_IG_precision_score=[]\n",
        "knn_30_IG_recall_score=[]\n",
        "knn_30_IG_accuracy_score=[]\n",
        "knn_30_IG_auc=[]\n",
        "\n",
        "knn_30_CC_f1_score=[]\n",
        "knn_30_CC_precision_score=[]\n",
        "knn_30_CC_recall_score=[]\n",
        "knn_30_CC_accuracy_score=[]\n",
        "knn_30_CC_auc=[]\n",
        "\n",
        "knn_30_CT_f1_score=[]\n",
        "knn_30_CT_precision_score=[]\n",
        "knn_30_CT_recall_score=[]\n",
        "knn_30_CT_accuracy_score=[]\n",
        "knn_30_CT_auc=[]\n",
        "\n",
        "\n",
        "knn_5_IG=[]\n",
        "knn_5_CC=[]\n",
        "knn_5_CT=[]\n",
        "knn_30_IG=[]\n",
        "knn_30_CC=[]\n",
        "knn_30_CT=[]\n",
        "\n",
        "skf = StratifiedShuffleSplit(n_splits=10, test_size=0.001, random_state=1)\n",
        "\n",
        "for train_index, test_index in skf.split(x1,y1):\n",
        "    X_train, y_train = x1[train_index], y1[train_index]\n",
        "    X_test, y_test = x1[test_index], y1[test_index]\n",
        "    fais=FaissKNeighbors(k=5)\n",
        "    fais.fit(X_train,y_train)\n",
        "    y_pred=fais.predict(X_test)\n",
        "\n",
        "    false_positive_rate, true_positive_rate, thresholds = roc_curve(y_test, y_pred)\n",
        "    \n",
        "    knn_5_IG_f1_score.append(f1_score(y_test, y_pred, average=\"macro\"))\n",
        "    knn_5_IG_precision_score.append(precision_score(y_test, y_pred, average=\"macro\"))\n",
        "    knn_5_IG_recall_score.append(recall_score(y_test, y_pred, average=\"macro\"))\n",
        "    knn_5_IG_accuracy_score.append(accuracy_score(y_test, y_pred))\n",
        "    knn_5_IG_auc.append(auc(false_positive_rate, true_positive_rate))\n",
        "    \n",
        "plt.title('Receiver Operating Characteristic - KNN5/IG')\n",
        "# AUC score that summarizes the ROC curve\n",
        "roc_auc = auc(false_positive_rate, true_positive_rate)\n",
        "                  \n",
        "    \n",
        "plt.plot(false_positive_rate, true_positive_rate, lw = 2, label = 'ROC AUC: {:.2f}'.format(roc_auc))\n",
        "plt.plot([0, 1], [0, 1],\n",
        "        linestyle = '--',\n",
        "        color = (0.6, 0.6, 0.6),\n",
        "        label = '')\n",
        "\n",
        "\n",
        "plt.xlim([-0.05, 1.05])\n",
        "plt.ylim([-0.05, 1.05])\n",
        "plt.xlabel('false positive rate')\n",
        "plt.ylabel('true positive rate')\n",
        "plt.title('Receiver Operator Characteristic')\n",
        "plt.legend(loc = \"lower right\")\n",
        "plt.tight_layout()\n",
        "plt.show()\n",
        "    \n",
        "    \n",
        "print(\"f1_score:\",statistics.mean(knn_5_IG_f1_score))\n",
        "print(\"precision_score:\",statistics.mean(knn_5_IG_precision_score))\n",
        "print(\"recall_score\",statistics.mean(knn_5_IG_recall_score))  \n",
        "print(\"accuracy_score\",statistics.mean(knn_5_IG_accuracy_score))  \n",
        "print(\"auc\",statistics.mean(knn_5_IG_auc)) \n",
        "knn_5_IG.append(statistics.mean(knn_5_IG_f1_score))\n",
        "knn_5_IG.append(statistics.mean(knn_5_IG_precision_score))\n",
        "knn_5_IG.append(statistics.mean(knn_5_IG_recall_score))\n",
        "knn_5_IG.append(statistics.mean(knn_5_IG_accuracy_score))\n",
        "knn_5_IG.append(statistics.mean(knn_5_IG_auc))\n",
        "\n",
        "print(\"-------------------------------------\")\n",
        "\n",
        "\n",
        "print(\"-------------------------------------\")\n",
        "\n",
        "for train_index, test_index in skf.split(x3,y3):\n",
        "    X_train, y_train = x3[train_index], y3[train_index]\n",
        "    X_test, y_test = x3[test_index], y3[test_index]\n",
        "    fais=FaissKNeighbors(k=5)\n",
        "    fais.fit(X_train,y_train)\n",
        "    y_pred=fais.predict(X_test)\n",
        "\n",
        "\n",
        "    false_positive_rate, true_positive_rate, thresholds = roc_curve(y_test, y_pred)\n",
        "    \n",
        "    knn_5_CT_f1_score.append(f1_score(y_test, y_pred, average=\"macro\"))\n",
        "    knn_5_CT_precision_score.append(precision_score(y_test, y_pred, average=\"macro\"))\n",
        "    knn_5_CT_recall_score.append(recall_score(y_test, y_pred, average=\"macro\"))\n",
        "    knn_5_CT_accuracy_score.append(accuracy_score(y_test, y_pred))\n",
        "    knn_5_CT_auc.append(auc(false_positive_rate, true_positive_rate))\n",
        "\n",
        "    \n",
        "print(\"f1_score:\",statistics.mean(knn_5_CT_f1_score))\n",
        "print(\"precision_score:\",statistics.mean(knn_5_CT_precision_score))\n",
        "print(\"recall_score\",statistics.mean(knn_5_CT_recall_score)) \n",
        "print(\"accuracy_score\",statistics.mean(knn_5_CT_accuracy_score))  \n",
        "print(\"auc\",statistics.mean(knn_5_CT_auc)) \n",
        "knn_5_CT.append(statistics.mean(knn_5_CT_f1_score))\n",
        "knn_5_CT.append(statistics.mean(knn_5_CT_precision_score))\n",
        "knn_5_CT.append(statistics.mean(knn_5_CT_recall_score))\n",
        "knn_5_CT.append(statistics.mean(knn_5_CT_accuracy_score))\n",
        "knn_5_CT.append(statistics.mean(knn_5_CT_auc))\n",
        "print(\"-------------------------------------\")\n",
        "\n",
        "plt2.title('Receiver Operating Characteristic - KNN5/CT')\n",
        "# AUC score that summarizes the ROC curve\n",
        "roc_auc = auc(false_positive_rate, true_positive_rate)\n",
        "                  \n",
        "    \n",
        "plt2.plot(false_positive_rate, true_positive_rate, lw = 2, label = 'ROC AUC: {:.2f}'.format(roc_auc))\n",
        "plt2.plot([0, 1], [0, 1],\n",
        "        linestyle = '--',\n",
        "        color = (0.6, 0.6, 0.6),\n",
        "        label = '')\n",
        "\n",
        "\n",
        "plt2.xlim([-0.05, 1.05])\n",
        "plt2.ylim([-0.05, 1.05])\n",
        "plt2.xlabel('false positive rate')\n",
        "plt2.ylabel('true positive rate')\n",
        "plt2.title('Receiver Operator Characteristic')\n",
        "plt2.legend(loc = \"lower right\")\n",
        "plt2.tight_layout()\n",
        "plt2.show()\n",
        "print(\"-------------------------------------\")\n",
        "\n",
        "\n",
        "for train_index, test_index in skf.split(x2,y2):\n",
        "    X_train, y_train = x2[train_index], y2[train_index]\n",
        "    X_test, y_test = x2[test_index], y2[test_index]\n",
        "    fais=FaissKNeighbors(k=5)\n",
        "    fais.fit(X_train,y_train)\n",
        "    y_pred=fais.predict(X_test)\n",
        "\n",
        "\n",
        "    false_positive_rate, true_positive_rate, thresholds = roc_curve(y_test, y_pred)\n",
        "    \n",
        "    knn_5_CC_f1_score.append(f1_score(y_test, y_pred, average=\"macro\"))\n",
        "    knn_5_CC_precision_score.append(precision_score(y_test, y_pred, average=\"macro\"))\n",
        "    knn_5_CC_recall_score.append(recall_score(y_test, y_pred, average=\"macro\"))\n",
        "    knn_5_CC_accuracy_score.append(accuracy_score(y_test, y_pred))\n",
        "    knn_5_CC_auc.append(auc(false_positive_rate, true_positive_rate))\n",
        "\n",
        "\n",
        "    \n",
        "print(\"f1_score:\",statistics.mean(knn_5_CC_f1_score))\n",
        "print(\"precision_score:\",statistics.mean(knn_5_CC_precision_score))\n",
        "print(\"recall_score\",statistics.mean(knn_5_CC_recall_score))  \n",
        "print(\"accuracy_score\",statistics.mean(knn_5_CC_accuracy_score))  \n",
        "print(\"auc\",statistics.mean(knn_5_CC_auc)) \n",
        "knn_5_CC.append(statistics.mean(knn_5_CC_f1_score))\n",
        "knn_5_CC.append(statistics.mean(knn_5_CC_precision_score))\n",
        "knn_5_CC.append(statistics.mean(knn_5_CC_recall_score))\n",
        "knn_5_CC.append(statistics.mean(knn_5_CC_accuracy_score))\n",
        "knn_5_CC.append(statistics.mean(knn_5_CC_auc))\n",
        "print(\"-------------------------------------\")\n",
        "\n",
        "plt3.title('Receiver Operating Characteristic - KNN5/CC')\n",
        "\n",
        "# AUC score that summarizes the ROC curve\n",
        "roc_auc = auc(false_positive_rate, true_positive_rate)\n",
        "                  \n",
        "    \n",
        "plt3.plot(false_positive_rate, true_positive_rate, lw = 2, label = 'ROC AUC: {:.2f}'.format(roc_auc))\n",
        "plt3.plot([0, 1], [0, 1],\n",
        "        linestyle = '--',\n",
        "        color = (0.6, 0.6, 0.6),\n",
        "        label = '')\n",
        "\n",
        "\n",
        "plt3.xlim([-0.05, 1.05])\n",
        "plt3.ylim([-0.05, 1.05])\n",
        "plt3.xlabel('false positive rate')\n",
        "plt3.ylabel('true positive rate')\n",
        "plt3.title('Receiver Operator Characteristic')\n",
        "plt3.legend(loc = \"lower right\")\n",
        "plt3.tight_layout()\n",
        "plt3.show()\n",
        "print(\"-------------------------------------\")\n",
        "\n",
        "for train_index, test_index in skf.split(x1,y1):\n",
        "    X_train, y_train = x1[train_index], y1[train_index]\n",
        "    X_test, y_test = x1[test_index], y1[test_index]\n",
        "    fais=FaissKNeighbors(k=30)\n",
        "    fais.fit(X_train,y_train)\n",
        "    y_pred=fais.predict(X_test)\n",
        "\n",
        "    false_positive_rate, true_positive_rate, thresholds = roc_curve(y_test, y_pred)\n",
        "    \n",
        "    knn_30_IG_f1_score.append(f1_score(y_test, y_pred, average=\"macro\"))\n",
        "    knn_30_IG_precision_score.append(precision_score(y_test, y_pred, average=\"macro\"))\n",
        "    knn_30_IG_recall_score.append(recall_score(y_test, y_pred, average=\"macro\"))\n",
        "    knn_30_IG_accuracy_score.append(accuracy_score(y_test, y_pred))\n",
        "    knn_30_IG_auc.append(auc(false_positive_rate, true_positive_rate))\n",
        "\n",
        "    \n",
        "print(\"f1_score:\",statistics.mean(knn_30_IG_f1_score))\n",
        "print(\"precision_score:\",statistics.mean(knn_30_IG_precision_score))\n",
        "print(\"recall_score\",statistics.mean(knn_30_IG_recall_score)) \n",
        "print(\"accuracy_score\",statistics.mean(knn_30_IG_accuracy_score))  \n",
        "print(\"auc\",statistics.mean(knn_30_IG_auc)) \n",
        "knn_30_IG.append(statistics.mean(knn_30_IG_f1_score))\n",
        "knn_30_IG.append(statistics.mean(knn_30_IG_precision_score))\n",
        "knn_30_IG.append(statistics.mean(knn_30_IG_recall_score))\n",
        "knn_30_IG.append(statistics.mean(knn_30_IG_accuracy_score))\n",
        "knn_30_IG.append(statistics.mean(knn_30_IG_auc))\n",
        "print(\"-------------------------------------\")\n",
        "\n",
        "plt4.title('Receiver Operating Characteristic - KNN30/IG')\n",
        "\n",
        "# AUC score that summarizes the ROC curve\n",
        "roc_auc = auc(false_positive_rate, true_positive_rate)\n",
        "                  \n",
        "    \n",
        "plt4.plot(false_positive_rate, true_positive_rate, lw = 2, label = 'ROC AUC: {:.2f}'.format(roc_auc))\n",
        "plt4.plot([0, 1], [0, 1],\n",
        "        linestyle = '--',\n",
        "        color = (0.6, 0.6, 0.6),\n",
        "        label = '')\n",
        "\n",
        "\n",
        "plt4.xlim([-0.05, 1.05])\n",
        "plt4.ylim([-0.05, 1.05])\n",
        "plt4.xlabel('false positive rate')\n",
        "plt4.ylabel('true positive rate')\n",
        "plt4.title('Receiver Operator Characteristic')\n",
        "plt4.legend(loc = \"lower right\")\n",
        "plt4.tight_layout()\n",
        "plt4.show()\n",
        "print(\"-------------------------------------\")\n",
        "\n",
        "\n",
        "for train_index, test_index in skf.split(x3,y3):\n",
        "    X_train, y_train = x3[train_index], y3[train_index]\n",
        "    X_test, y_test = x3[test_index], y3[test_index]\n",
        "    fais=FaissKNeighbors(k=30)\n",
        "    fais.fit(X_train,y_train)\n",
        "    y_pred=fais.predict(X_test)\n",
        "\n",
        "\n",
        "    false_positive_rate, true_positive_rate, thresholds = roc_curve(y_test, y_pred)\n",
        "    \n",
        "    knn_30_CT_f1_score.append(f1_score(y_test, y_pred, average=\"macro\"))\n",
        "    knn_30_CT_precision_score.append(precision_score(y_test, y_pred, average=\"macro\"))\n",
        "    knn_30_CT_recall_score.append(recall_score(y_test, y_pred, average=\"macro\"))\n",
        "    knn_30_CT_accuracy_score.append(accuracy_score(y_test, y_pred))\n",
        "    knn_30_CT_auc.append(auc(false_positive_rate, true_positive_rate))\n",
        "\n",
        "    \n",
        "print(\"f1_score:\",statistics.mean(knn_30_CT_f1_score))\n",
        "print(\"precision_score:\",statistics.mean(knn_30_CT_precision_score))\n",
        "print(\"recall_score\",statistics.mean(knn_30_CT_recall_score)) \n",
        "print(\"accuracy_score\",statistics.mean(knn_30_CT_accuracy_score))  \n",
        "print(\"auc\",statistics.mean(knn_30_CT_auc)) \n",
        "knn_30_CT.append(statistics.mean(knn_30_CT_f1_score))\n",
        "knn_30_CT.append(statistics.mean(knn_30_CT_precision_score))\n",
        "knn_30_CT.append(statistics.mean(knn_30_CT_recall_score))\n",
        "knn_30_CT.append(statistics.mean(knn_30_CT_accuracy_score))\n",
        "knn_30_CT.append(statistics.mean(knn_30_CT_auc))\n",
        "print(\"-------------------------------------\")\n",
        "\n",
        "\n",
        "print(\"-------------------------------------\")\n",
        "\n",
        "plt5.title('Receiver Operating Characteristic - KNN30/CT')\n",
        "# AUC score that summarizes the ROC curve\n",
        "roc_auc = auc(false_positive_rate, true_positive_rate)\n",
        "                  \n",
        "    \n",
        "plt5.plot(false_positive_rate, true_positive_rate, lw = 2, label = 'ROC AUC: {:.2f}'.format(roc_auc))\n",
        "plt5.plot([0, 1], [0, 1],\n",
        "        linestyle = '--',\n",
        "        color = (0.6, 0.6, 0.6),\n",
        "        label = '')\n",
        "\n",
        "\n",
        "plt5.xlim([-0.05, 1.05])\n",
        "plt5.ylim([-0.05, 1.05])\n",
        "plt5.xlabel('false positive rate')\n",
        "plt5.ylabel('true positive rate')\n",
        "plt5.title('Receiver Operator Characteristic')\n",
        "plt5.legend(loc = \"lower right\")\n",
        "plt5.tight_layout()\n",
        "plt5.show()\n",
        "\n",
        "\n",
        "\n",
        "for train_index, test_index in skf.split(x2,y2):\n",
        "    X_train, y_train = x2[train_index], y2[train_index]\n",
        "    X_test, y_test = x2[test_index], y2[test_index]\n",
        "    fais=FaissKNeighbors(k=30)\n",
        "    fais.fit(X_train,y_train)\n",
        "    y_pred=fais.predict(X_test)\n",
        "\n",
        "\n",
        "    false_positive_rate, true_positive_rate, thresholds = roc_curve(y_test, y_pred)\n",
        "    \n",
        "    knn_30_CC_f1_score.append(f1_score(y_test, y_pred, average=\"macro\"))\n",
        "    knn_30_CC_precision_score.append(precision_score(y_test, y_pred, average=\"macro\"))\n",
        "    knn_30_CC_recall_score.append(recall_score(y_test, y_pred, average=\"macro\"))\n",
        "    knn_30_CC_accuracy_score.append(accuracy_score(y_test, y_pred))\n",
        "    knn_30_CC_auc.append(auc(false_positive_rate, true_positive_rate))\n",
        "\n",
        "\n",
        "    \n",
        "print(\"f1_score:\",statistics.mean(knn_30_CC_f1_score))\n",
        "print(\"precision_score:\",statistics.mean(knn_30_CC_precision_score))\n",
        "print(\"recall_score\",statistics.mean(knn_30_CC_recall_score))\n",
        "print(\"accuracy_score\",statistics.mean(knn_30_CC_accuracy_score))  \n",
        "print(\"auc\",statistics.mean(knn_30_CC_auc)) \n",
        "knn_30_CC.append(statistics.mean(knn_30_CC_f1_score))\n",
        "knn_30_CC.append(statistics.mean(knn_30_CC_precision_score))\n",
        "knn_30_CC.append(statistics.mean(knn_30_CC_recall_score))\n",
        "knn_30_CC.append(statistics.mean(knn_30_CC_accuracy_score))\n",
        "knn_30_CC.append(statistics.mean(knn_30_CC_auc))\n",
        "print(\"-------------------------------------\")\n",
        "\n",
        "\n",
        "\n",
        "plt6.title('Receiver Operating Characteristic - KNN30/CC')\n",
        "# AUC score that summarizes the ROC curve\n",
        "roc_auc = auc(false_positive_rate, true_positive_rate)\n",
        "                  \n",
        "    \n",
        "plt6.plot(false_positive_rate, true_positive_rate, lw = 2, label = 'ROC AUC: {:.2f}'.format(roc_auc))\n",
        "plt6.plot([0, 1], [0, 1],\n",
        "        linestyle = '--',\n",
        "        color = (0.6, 0.6, 0.6),\n",
        "        label = '')\n",
        "\n",
        "\n",
        "plt6.xlim([-0.05, 1.05])\n",
        "plt6.ylim([-0.05, 1.05])\n",
        "plt6.xlabel('false positive rate')\n",
        "plt6.ylabel('true positive rate')\n",
        "plt6.title('Receiver Operator Characteristic')\n",
        "plt6.legend(loc = \"lower right\")\n",
        "plt6.tight_layout()\n",
        "plt6.show()\n",
        "\n"
      ],
      "id": "gjV_v5ywXARm",
      "execution_count": null,
      "outputs": [
        {
          "output_type": "display_data",
          "data": {
            "image/png": "[encoded data removed]",
            "text/plain": [
              "<Figure size 432x288 with 1 Axes>"
            ]
          },
          "metadata": {
            "tags": []
          }
        },
        {
          "output_type": "stream",
          "text": [
            "f1_score: 0.8154848101738799\n",
            "precision_score: 0.9409437379980392\n",
            "recall_score 0.7498914223669924\n",
            "accuracy_score 0.9983399494767231\n",
            "auc 0.7498914223669924\n",
            "-------------------------------------\n",
            "-------------------------------------\n",
            "f1_score: 0.8215544496522468\n",
            "precision_score: 0.9409617754689756\n",
            "recall_score 0.7561414223669924\n",
            "accuracy_score 0.998376037531577\n",
            "auc 0.7561414223669924\n",
            "-------------------------------------\n"
          ],
          "name": "stdout"
        },
        {
          "output_type": "display_data",
          "data": {
            "image/png": "[encoded data removed]",
            "text/plain": [
              "<Figure size 432x288 with 1 Axes>"
            ]
          },
          "metadata": {
            "tags": []
          }
        },
        {
          "output_type": "stream",
          "text": [
            "-------------------------------------\n",
            "f1_score: 0.840885562831088\n",
            "precision_score: 0.9312901166551205\n",
            "recall_score 0.7873552298226565\n",
            "accuracy_score 0.9984843016961386\n",
            "auc 0.7873552298226565\n",
            "-------------------------------------\n"
          ],
          "name": "stdout"
        },
        {
          "output_type": "display_data",
          "data": {
            "image/png": "[encoded data removed]",
            "text/plain": [
              "<Figure size 432x288 with 1 Axes>"
            ]
          },
          "metadata": {
            "tags": []
          }
        },
        {
          "output_type": "stream",
          "text": [
            "-------------------------------------\n",
            "f1_score: 0.7710929375909077\n",
            "precision_score: 0.9641328694779251\n",
            "recall_score 0.6999457111834962\n",
            "accuracy_score 0.998159509202454\n",
            "auc 0.6999457111834962\n",
            "-------------------------------------\n"
          ],
          "name": "stdout"
        },
        {
          "output_type": "display_data",
          "data": {
            "image/png": "[encoded data removed]",
            "text/plain": [
              "<Figure size 432x288 with 1 Axes>"
            ]
          },
          "metadata": {
            "tags": []
          }
        },
        {
          "output_type": "stream",
          "text": [
            "-------------------------------------\n",
            "f1_score: 0.7768712017749426\n",
            "precision_score: 0.9666509134581999\n",
            "recall_score 0.7061957111834962\n",
            "accuracy_score 0.9981955972573078\n",
            "auc 0.7061957111834962\n",
            "-------------------------------------\n",
            "-------------------------------------\n"
          ],
          "name": "stdout"
        },
        {
          "output_type": "display_data",
          "data": {
            "image/png": "[encoded data removed]",
            "text/plain": [
              "<Figure size 432x288 with 1 Axes>"
            ]
          },
          "metadata": {
            "tags": []
          }
        },
        {
          "output_type": "stream",
          "text": [
            "f1_score: 0.7898426224385829\n",
            "precision_score: 0.9233715881332109\n",
            "recall_score 0.7248914223669924\n",
            "accuracy_score 0.9981955972573078\n",
            "auc 0.7248914223669924\n",
            "-------------------------------------\n"
          ],
          "name": "stdout"
        },
        {
          "output_type": "display_data",
          "data": {
            "image/png": "[encoded data removed]",
            "text/plain": [
              "<Figure size 432x288 with 1 Axes>"
            ]
          },
          "metadata": {
            "tags": []
          }
        }
      ]
    },
    {
      "cell_type": "code",
      "metadata": {
        "colab": {
          "base_uri": "https://localhost:8080/",
          "height": 1000
        },
        "id": "FypaeBSfXwfb",
        "outputId": "c084f7b9-48eb-4202-f214-a85f64501f13"
      },
      "source": [
        "# STRATIFIES K-FOLD CROSS VALIDATION { 10-fold } for Naive Bayes\n",
        "\n",
        "# Import Required Modules\n",
        "from statistics import mean, stdev\n",
        "from sklearn import preprocessing\n",
        "from sklearn.model_selection import StratifiedKFold\n",
        "from sklearn.model_selection import KFold\n",
        "from sklearn.model_selection import StratifiedShuffleSplit\n",
        "from sklearn import linear_model\n",
        "from sklearn import datasets\n",
        "from sklearn.metrics import accuracy_score, f1_score, precision_score, recall_score, classification_report, confusion_matrix\n",
        "from sklearn.metrics import roc_curve, auc, roc_auc_score\n",
        "from sklearn.naive_bayes import GaussianNB\n",
        "import statistics\n",
        "import seaborn as sn\n",
        "import matplotlib.pyplot as plt\n",
        "import matplotlib.pyplot as plt2\n",
        "import matplotlib.pyplot as plt3\n",
        "import matplotlib.pyplot as plt4\n",
        "import matplotlib.pyplot as plt5\n",
        "import matplotlib.pyplot as plt6\n",
        "\n",
        "\n",
        "#Remove Least Important Features by Information Gain Feature Selection Method\n",
        "df1=df.drop('isFlaggedFraud', 1)\n",
        "df1=df.drop('type', 1)\n",
        "df1=df.drop('newbalanceOrig', 1)\n",
        "\n",
        "# FEATCHING FEATURES AND TARGET VARIABLES IN ARRAY FORMAT.\n",
        "# Input_x_Features.\n",
        "x1 = df1.drop(\"isFraud\",1)\n",
        "# Input_ y_Target_Variable.\n",
        "y1 = df1.isFraud\n",
        "\n",
        "# Feature Scaling for input features.\n",
        "x1=x1.to_numpy()\n",
        "y1=y1.to_numpy()\n",
        "\n",
        "#Remove Least Important Features by Correlation Coefficient Feature Selection Method\n",
        "df2=df.drop('nameOrig', 1)\n",
        "df2=df.drop('oldbalanceDest', 1)\n",
        "df2=df.drop('newbalanceOrig', 1)\n",
        "df2=df.drop('nameDest', 1)\n",
        "\n",
        "# FEATCHING FEATURES AND TARGET VARIABLES IN ARRAY FORMAT.\n",
        "# Input_x_Features.\n",
        "x2 = df2.drop(\"isFraud\",1)\n",
        "# Input_ y_Target_Variable.\n",
        "y2 = df2.isFraud\n",
        "\n",
        "# Feature Scaling for input features.\n",
        "x2=x2.to_numpy()\n",
        "y2=y2.to_numpy()\n",
        "\n",
        "\n",
        "#Remove Least Important Features by Chi Square Test Feature Selection Method\n",
        "df3=df.drop('nameOrig', 1)\n",
        "df3=df.drop('newbalanceDest', 1)\n",
        "df3=df.drop('type', 1)\n",
        "df3=df.drop('step', 1)\n",
        "df3=df.drop('isFlaggedFraud', 1)\n",
        "\n",
        "# FEATCHING FEATURES AND TARGET VARIABLES IN ARRAY FORMAT.\n",
        "# Input_x_Features.\n",
        "x3 = df3.drop(\"isFraud\",1)\n",
        "# Input_ y_Target_Variable.\n",
        "y3 = df3.isFraud\n",
        "\n",
        "# Feature Scaling for input features.\n",
        "x3=x3.to_numpy()\n",
        "y3=y3.to_numpy()\n",
        "\n",
        "\n",
        "# Create StratifiedKFold object.\n",
        "naive_bayes_IG_f1_score=[]\n",
        "naive_bayes_IG_precision_score=[]\n",
        "naive_bayes_IG_recall_score=[]\n",
        "naive_bayes_IG_accuracy_score=[]\n",
        "naive_bayes_IG_auc=[]\n",
        "\n",
        "naive_bayes_CC_f1_score=[]\n",
        "naive_bayes_CC_precision_score=[]\n",
        "naive_bayes_CC_recall_score=[]\n",
        "naive_bayes_CC_accuracy_score=[]\n",
        "naive_bayes_CC_auc=[]\n",
        "\n",
        "naive_bayes_CT_f1_score=[]\n",
        "naive_bayes_CT_precision_score=[]\n",
        "naive_bayes_CT_recall_score=[]\n",
        "naive_bayes_CT_accuracy_score=[]\n",
        "naive_bayes_CT_auc=[]\n",
        "\n",
        "\n",
        "\n",
        "naive_bayes_IG=[]\n",
        "naive_bayes_CC=[]\n",
        "naive_bayes_CT=[]\n",
        "\n",
        "\n",
        "skf = StratifiedShuffleSplit(n_splits=10, test_size=0.1, random_state=1)\n",
        "\n",
        "for train_index, test_index in skf.split(x1,y1):\n",
        "    X_train, y_train = x1[train_index], y1[train_index]\n",
        "    X_test, y_test = x1[test_index], y1[test_index]\n",
        "    \n",
        "    gs_NB = GaussianNB(var_smoothing=1e-07)\n",
        "    gs_NB.fit(X_train, y_train)\n",
        "    y_pred=gs_NB.predict(X_test) \n",
        "\n",
        "    false_positive_rate, true_positive_rate, thresholds = roc_curve(y_test, y_pred)\n",
        "    \n",
        "    naive_bayes_IG_f1_score.append(f1_score(y_test, y_pred, average=\"macro\"))\n",
        "    naive_bayes_IG_precision_score.append(precision_score(y_test, y_pred, average=\"macro\"))\n",
        "    naive_bayes_IG_recall_score.append(recall_score(y_test, y_pred, average=\"macro\"))\n",
        "    naive_bayes_IG_accuracy_score.append(accuracy_score(y_test, y_pred))\n",
        "    naive_bayes_IG_auc.append(auc(false_positive_rate, true_positive_rate))\n",
        "    \n",
        "plt.title('Receiver Operating Characteristic - naive_bayes/IG')\n",
        "# AUC score that summarizes the ROC curve\n",
        "roc_auc = auc(false_positive_rate, true_positive_rate)\n",
        "                  \n",
        "    \n",
        "plt.plot(false_positive_rate, true_positive_rate, lw = 2, label = 'ROC AUC: {:.2f}'.format(roc_auc))\n",
        "plt.plot([0, 1], [0, 1],\n",
        "        linestyle = '--',\n",
        "        color = (0.6, 0.6, 0.6),\n",
        "        label = '')\n",
        "\n",
        "\n",
        "plt.xlim([-0.05, 1.05])\n",
        "plt.ylim([-0.05, 1.05])\n",
        "plt.xlabel('false positive rate')\n",
        "plt.ylabel('true positive rate')\n",
        "plt.title('Receiver Operator Characteristic')\n",
        "plt.legend(loc = \"lower right\")\n",
        "plt.tight_layout()\n",
        "plt.show()\n",
        "    \n",
        "    \n",
        "print(\"f1_score:\",statistics.mean(naive_bayes_IG_f1_score))\n",
        "print(\"precision_score:\",statistics.mean(naive_bayes_IG_precision_score))\n",
        "print(\"recall_score\",statistics.mean(naive_bayes_IG_recall_score))  \n",
        "print(\"accuracy_score\",statistics.mean(naive_bayes_IG_accuracy_score))  \n",
        "print(\"auc\",statistics.mean(naive_bayes_IG_auc)) \n",
        "naive_bayes_IG.append(statistics.mean(naive_bayes_IG_f1_score))\n",
        "naive_bayes_IG.append(statistics.mean(naive_bayes_IG_precision_score))\n",
        "naive_bayes_IG.append(statistics.mean(naive_bayes_IG_recall_score))\n",
        "naive_bayes_IG.append(statistics.mean(naive_bayes_IG_accuracy_score))\n",
        "naive_bayes_IG.append(statistics.mean(naive_bayes_IG_auc))\n",
        "\n",
        "print(\"-------------------------------------\")\n",
        "\n",
        "\n",
        "print(\"-------------------------------------\")\n",
        "\n",
        "for train_index, test_index in skf.split(x3,y3):\n",
        "    X_train, y_train = x3[train_index], y3[train_index]\n",
        "    X_test, y_test = x3[test_index], y3[test_index]\n",
        "    \n",
        "    gs_NB = GaussianNB(var_smoothing=1e-07)\n",
        "    gs_NB.fit(X_train, y_train)\n",
        "    y_pred=gs_NB.predict(X_test) \n",
        "\n",
        "\n",
        "    false_positive_rate, true_positive_rate, thresholds = roc_curve(y_test, y_pred)\n",
        "    \n",
        "    naive_bayes_CT_f1_score.append(f1_score(y_test, y_pred, average=\"macro\"))\n",
        "    naive_bayes_CT_precision_score.append(precision_score(y_test, y_pred, average=\"macro\"))\n",
        "    naive_bayes_CT_recall_score.append(recall_score(y_test, y_pred, average=\"macro\"))\n",
        "    naive_bayes_CT_accuracy_score.append(accuracy_score(y_test, y_pred))\n",
        "    naive_bayes_CT_auc.append(auc(false_positive_rate, true_positive_rate))\n",
        "\n",
        "    \n",
        "print(\"f1_score:\",statistics.mean(naive_bayes_CT_f1_score))\n",
        "print(\"precision_score:\",statistics.mean(naive_bayes_CT_precision_score))\n",
        "print(\"recall_score\",statistics.mean(naive_bayes_CT_recall_score)) \n",
        "print(\"accuracy_score\",statistics.mean(naive_bayes_CT_accuracy_score))  \n",
        "print(\"auc\",statistics.mean(naive_bayes_CT_auc)) \n",
        "naive_bayes_CT.append(statistics.mean(naive_bayes_CT_f1_score))\n",
        "naive_bayes_CT.append(statistics.mean(naive_bayes_CT_precision_score))\n",
        "naive_bayes_CT.append(statistics.mean(naive_bayes_CT_recall_score))\n",
        "naive_bayes_CT.append(statistics.mean(naive_bayes_CT_accuracy_score))\n",
        "naive_bayes_CT.append(statistics.mean(naive_bayes_CT_auc))\n",
        "print(\"-------------------------------------\")\n",
        "\n",
        "plt2.title('Receiver Operating Characteristic - naive_bayes/CT')\n",
        "# AUC score that summarizes the ROC curve\n",
        "roc_auc = auc(false_positive_rate, true_positive_rate)\n",
        "                  \n",
        "    \n",
        "plt2.plot(false_positive_rate, true_positive_rate, lw = 2, label = 'ROC AUC: {:.2f}'.format(roc_auc))\n",
        "plt2.plot([0, 1], [0, 1],\n",
        "        linestyle = '--',\n",
        "        color = (0.6, 0.6, 0.6),\n",
        "        label = '')\n",
        "\n",
        "\n",
        "plt2.xlim([-0.05, 1.05])\n",
        "plt2.ylim([-0.05, 1.05])\n",
        "plt2.xlabel('false positive rate')\n",
        "plt2.ylabel('true positive rate')\n",
        "plt2.title('Receiver Operator Characteristic')\n",
        "plt2.legend(loc = \"lower right\")\n",
        "plt2.tight_layout()\n",
        "plt2.show()\n",
        "print(\"-------------------------------------\")\n",
        "\n",
        "\n",
        "for train_index, test_index in skf.split(x2,y2):\n",
        "    X_train, y_train = x2[train_index], y2[train_index]\n",
        "    X_test, y_test = x2[test_index], y2[test_index]\n",
        "    \n",
        "    gs_NB = GaussianNB(var_smoothing=1e-07)\n",
        "    gs_NB.fit(X_train, y_train)\n",
        "    y_pred=gs_NB.predict(X_test) \n",
        "\n",
        "\n",
        "    false_positive_rate, true_positive_rate, thresholds = roc_curve(y_test, y_pred)\n",
        "    \n",
        "    naive_bayes_CC_f1_score.append(f1_score(y_test, y_pred, average=\"macro\"))\n",
        "    naive_bayes_CC_precision_score.append(precision_score(y_test, y_pred, average=\"macro\"))\n",
        "    naive_bayes_CC_recall_score.append(recall_score(y_test, y_pred, average=\"macro\"))\n",
        "    naive_bayes_CC_accuracy_score.append(accuracy_score(y_test, y_pred))\n",
        "    naive_bayes_CC_auc.append(auc(false_positive_rate, true_positive_rate))\n",
        "\n",
        "\n",
        "    \n",
        "print(\"f1_score:\",statistics.mean(naive_bayes_CC_f1_score))\n",
        "print(\"precision_score:\",statistics.mean(naive_bayes_CC_precision_score))\n",
        "print(\"recall_score\",statistics.mean(naive_bayes_CC_recall_score))  \n",
        "print(\"accuracy_score\",statistics.mean(naive_bayes_CC_accuracy_score))  \n",
        "print(\"auc\",statistics.mean(naive_bayes_CC_auc)) \n",
        "naive_bayes_CC.append(statistics.mean(naive_bayes_CC_f1_score))\n",
        "naive_bayes_CC.append(statistics.mean(naive_bayes_CC_precision_score))\n",
        "naive_bayes_CC.append(statistics.mean(naive_bayes_CC_recall_score))\n",
        "naive_bayes_CC.append(statistics.mean(naive_bayes_CC_accuracy_score))\n",
        "naive_bayes_CC.append(statistics.mean(naive_bayes_CC_auc))\n",
        "print(\"-------------------------------------\")\n",
        "\n",
        "plt3.title('Receiver Operating Characteristic - naive_bayes/CC')\n",
        "\n",
        "# AUC score that summarizes the ROC curve\n",
        "roc_auc = auc(false_positive_rate, true_positive_rate)\n",
        "                  \n",
        "    \n",
        "plt3.plot(false_positive_rate, true_positive_rate, lw = 2, label = 'ROC AUC: {:.2f}'.format(roc_auc))\n",
        "plt3.plot([0, 1], [0, 1],\n",
        "        linestyle = '--',\n",
        "        color = (0.6, 0.6, 0.6),\n",
        "        label = '')\n",
        "\n",
        "\n",
        "plt3.xlim([-0.05, 1.05])\n",
        "plt3.ylim([-0.05, 1.05])\n",
        "plt3.xlabel('false positive rate')\n",
        "plt3.ylabel('true positive rate')\n",
        "plt3.title('Receiver Operator Characteristic')\n",
        "plt3.legend(loc = \"lower right\")\n",
        "plt3.tight_layout()\n",
        "plt3.show()\n",
        "print(\"-------------------------------------\")\n",
        "\n"
      ],
      "id": "FypaeBSfXwfb",
      "execution_count": null,
      "outputs": [
        {
          "output_type": "display_data",
          "data": {
            "image/png": "[encoded data removed]",
            "text/plain": [
              "<Figure size 432x288 with 1 Axes>"
            ]
          },
          "metadata": {
            "tags": []
          }
        },
        {
          "output_type": "stream",
          "text": [
            "f1_score: 0.5794363740446421\n",
            "precision_score: 0.5505534666310475\n",
            "recall_score 0.7044239780979186\n",
            "accuracy_score 0.9874285755537989\n",
            "auc 0.7044239780979186\n",
            "-------------------------------------\n",
            "-------------------------------------\n",
            "f1_score: 0.5624611556892881\n",
            "precision_score: 0.538892527825947\n",
            "recall_score 0.6928297703264119\n",
            "accuracy_score 0.984529365689555\n",
            "auc 0.6928297703264119\n",
            "-------------------------------------\n"
          ],
          "name": "stdout"
        },
        {
          "output_type": "display_data",
          "data": {
            "image/png": "[encoded data removed]",
            "text/plain": [
              "<Figure size 432x288 with 1 Axes>"
            ]
          },
          "metadata": {
            "tags": []
          }
        },
        {
          "output_type": "stream",
          "text": [
            "-------------------------------------\n",
            "f1_score: 0.5624448718361692\n",
            "precision_score: 0.5388830197375291\n",
            "recall_score 0.6927692310168482\n",
            "accuracy_score 0.9845297266469584\n",
            "auc 0.6927692310168482\n",
            "-------------------------------------\n"
          ],
          "name": "stdout"
        },
        {
          "output_type": "display_data",
          "data": {
            "image/png": "[encoded data removed]",
            "text/plain": [
              "<Figure size 432x288 with 1 Axes>"
            ]
          },
          "metadata": {
            "tags": []
          }
        },
        {
          "output_type": "stream",
          "text": [
            "-------------------------------------\n"
          ],
          "name": "stdout"
        }
      ]
    },
    {
      "cell_type": "code",
      "metadata": {
        "id": "Du4QzdVR15cR"
      },
      "source": [
        "! pip install -q scikit-plot\n",
        "import scikitplot as skplt"
      ],
      "id": "Du4QzdVR15cR",
      "execution_count": null,
      "outputs": []
    },
    {
      "cell_type": "code",
      "metadata": {
        "colab": {
          "background_save": true,
          "base_uri": "https://localhost:8080/",
          "height": 1000
        },
        "id": "0Dc04WQ7fkX1",
        "outputId": "9df181d4-45b4-44e3-e6bd-d42d8c383a3c"
      },
      "source": [
        "# STRATIFIES K-FOLD CROSS VALIDATION { 10-fold } for Decision Tree Classifier\n",
        "\n",
        "# Import Required Modules\n",
        "from statistics import mean, stdev\n",
        "from sklearn import preprocessing\n",
        "from sklearn.model_selection import StratifiedKFold\n",
        "from sklearn.model_selection import KFold\n",
        "from sklearn.model_selection import StratifiedShuffleSplit\n",
        "from sklearn import linear_model\n",
        "from sklearn import datasets\n",
        "from sklearn.metrics import accuracy_score, f1_score, precision_score, recall_score, classification_report, confusion_matrix\n",
        "from sklearn.metrics import roc_curve, auc, roc_auc_score\n",
        "from sklearn.tree import DecisionTreeClassifier\n",
        "import statistics\n",
        "import seaborn as sn\n",
        "import matplotlib.pyplot as plt     \n",
        "import matplotlib.pyplot as plt2\n",
        "import matplotlib.pyplot as plt3\n",
        "import matplotlib.pyplot as plt4\n",
        "import matplotlib.pyplot as plt5\n",
        "import matplotlib.pyplot as plt6\n",
        "import scikitplot as skplt\n",
        "\n",
        "\n",
        "#Remove Least Important Features by Information Gain Feature Selection Method\n",
        "df1=df.drop('isFlaggedFraud', 1)\n",
        "df1=df.drop('type', 1)\n",
        "df1=df.drop('newbalanceOrig', 1)\n",
        "\n",
        "# FEATCHING FEATURES AND TARGET VARIABLES IN ARRAY FORMAT.\n",
        "# Input_x_Features.\n",
        "x1 = df1.drop(\"isFraud\",1)\n",
        "# Input_ y_Target_Variable.\n",
        "y1 = df1.isFraud\n",
        "\n",
        "# Feature Scaling for input features.\n",
        "x1=x1.to_numpy()\n",
        "y1=y1.to_numpy()\n",
        "\n",
        "#Remove Least Important Features by Correlation Coefficient Feature Selection Method\n",
        "df2=df.drop('nameOrig', 1)\n",
        "df2=df.drop('oldbalanceDest', 1)\n",
        "df2=df.drop('newbalanceOrig', 1)\n",
        "df2=df.drop('nameDest', 1)\n",
        "\n",
        "# FEATCHING FEATURES AND TARGET VARIABLES IN ARRAY FORMAT.\n",
        "# Input_x_Features.\n",
        "x2 = df2.drop(\"isFraud\",1)\n",
        "# Input_ y_Target_Variable.\n",
        "y2 = df2.isFraud\n",
        "\n",
        "# Feature Scaling for input features.\n",
        "x2=x2.to_numpy()\n",
        "y2=y2.to_numpy()\n",
        "\n",
        "\n",
        "#Remove Least Important Features by Chi Square Test Feature Selection Method\n",
        "df3=df.drop('nameOrig', 1)\n",
        "df3=df.drop('newbalanceDest', 1)\n",
        "df3=df.drop('type', 1)\n",
        "df3=df.drop('step', 1)\n",
        "df3=df.drop('isFlaggedFraud', 1)\n",
        "\n",
        "# FEATCHING FEATURES AND TARGET VARIABLES IN ARRAY FORMAT.\n",
        "# Input_x_Features.\n",
        "x3 = df3.drop(\"isFraud\",1)\n",
        "# Input_ y_Target_Variable.\n",
        "y3 = df3.isFraud\n",
        "\n",
        "# Feature Scaling for input features.\n",
        "x3=x3.to_numpy()\n",
        "y3=y3.to_numpy()\n",
        "\n",
        "\n",
        "# Create StratifiedKFold object.\n",
        "DC_entropy_IG_f1_score=[]\n",
        "DC_entropy_IG_precision_score=[]\n",
        "DC_entropy_IG_recall_score=[]\n",
        "DC_entropy_IG_accuracy_score=[]\n",
        "DC_entropy_IG_auc=[]\n",
        "\n",
        "DC_entropy_CC_f1_score=[]\n",
        "DC_entropy_CC_precision_score=[]\n",
        "DC_entropy_CC_recall_score=[]\n",
        "DC_entropy_CC_accuracy_score=[]\n",
        "DC_entropy_CC_auc=[]\n",
        "\n",
        "DC_entropy_CT_f1_score=[]\n",
        "DC_entropy_CT_precision_score=[]\n",
        "DC_entropy_CT_recall_score=[]\n",
        "DC_entropy_CT_accuracy_score=[]\n",
        "DC_entropy_CT_auc=[]\n",
        "\n",
        "DC_gini_IG_f1_score=[]\n",
        "DC_gini_IG_precision_score=[]\n",
        "DC_gini_IG_recall_score=[]\n",
        "DC_gini_IG_accuracy_score=[]\n",
        "DC_gini_IG_auc=[]\n",
        "\n",
        "DC_gini_CC_f1_score=[]\n",
        "DC_gini_CC_precision_score=[]\n",
        "DC_gini_CC_recall_score=[]\n",
        "DC_gini_CC_accuracy_score=[]\n",
        "DC_gini_CC_auc=[]\n",
        "\n",
        "DC_gini_CT_f1_score=[]\n",
        "DC_gini_CT_precision_score=[]\n",
        "DC_gini_CT_recall_score=[]\n",
        "DC_gini_CT_accuracy_score=[]\n",
        "DC_gini_CT_auc=[]\n",
        "\n",
        "\n",
        "\n",
        "DC_gini_IG=[]\n",
        "DC_gini_CC=[]\n",
        "DC_gini_CT=[]\n",
        "DC_entropy_IG=[]\n",
        "DC_entropy_CC=[]\n",
        "DC_entropy_CT=[]\n",
        "\n",
        "skf = StratifiedShuffleSplit(n_splits=10, test_size=0.1, random_state=42)\n",
        "\n",
        "for train_index, test_index in skf.split(x1,y1):\n",
        "    X_train, y_train = x1[train_index], y1[train_index]\n",
        "    X_test, y_test = x1[test_index], y1[test_index]\n",
        "    clf=DecisionTreeClassifier(criterion=\"entropy\", max_depth=4)\n",
        "    clf.fit(X_train, y_train)\n",
        "    y_pred=clf.predict(X_test)\n",
        "\n",
        "    false_positive_rate, true_positive_rate, thresholds = roc_curve(y_test, y_pred)\n",
        "\n",
        "    \n",
        "    \n",
        "    DC_entropy_IG_f1_score.append(f1_score(y_test, y_pred, average=\"macro\"))\n",
        "    DC_entropy_IG_precision_score.append(precision_score(y_test, y_pred, average=\"macro\"))\n",
        "    DC_entropy_IG_recall_score.append(recall_score(y_test, y_pred, average=\"macro\"))\n",
        "    DC_entropy_IG_accuracy_score.append(accuracy_score(y_test, y_pred))\n",
        "    DC_entropy_IG_auc.append(auc(false_positive_rate, true_positive_rate))\n",
        "\n",
        "\n",
        "\n",
        "\n",
        "plt.title('Receiver Operating Characteristic -  DC_entropy_/IG')\n",
        "# AUC score that summarizes the ROC curve\n",
        "roc_auc = auc(false_positive_rate, true_positive_rate)\n",
        "                  \n",
        "    \n",
        "plt.plot(false_positive_rate, true_positive_rate, lw = 2, label = 'ROC AUC: {:.2f}'.format(roc_auc))\n",
        "plt.plot([0, 1], [0, 1],\n",
        "        linestyle = '--',\n",
        "        color = (0.6, 0.6, 0.6),\n",
        "        label = '')\n",
        "\n",
        "\n",
        "plt.xlim([-0.05, 1.05])\n",
        "plt.ylim([-0.05, 1.05])\n",
        "plt.xlabel('false positive rate')\n",
        "plt.ylabel('true positive rate')\n",
        "plt.title('Receiver Operator Characteristic')\n",
        "plt.legend(loc = \"lower right\")\n",
        "plt.tight_layout()\n",
        "plt.show()\n",
        "    \n",
        "    \n",
        "print(\"f1_score:\",statistics.mean(DC_entropy_IG_f1_score))\n",
        "print(\"precision_score:\",statistics.mean( DC_entropy_IG_precision_score))\n",
        "print(\"recall_score\",statistics.mean( DC_entropy_IG_recall_score))  \n",
        "print(\"accuracy_score\",statistics.mean( DC_entropy_IG_accuracy_score))  \n",
        "print(\"auc\",statistics.mean(DC_entropy_IG_auc)) \n",
        "DC_entropy_IG.append(statistics.mean(DC_entropy_IG_f1_score))\n",
        "DC_entropy_IG.append(statistics.mean(DC_entropy_IG_precision_score))\n",
        "DC_entropy_IG.append(statistics.mean(DC_entropy_IG_recall_score))\n",
        "DC_entropy_IG.append(statistics.mean(DC_entropy_IG_accuracy_score))\n",
        "DC_entropy_IG.append(statistics.mean(DC_entropy_IG_auc))\n",
        "\n",
        "print(\"-------------------------------------\")\n",
        "\n",
        "\n",
        "\n",
        "\n",
        "print(\"-------------------------------------\")\n",
        "\n",
        "for train_index, test_index in skf.split(x3,y3):\n",
        "    X_train, y_train = x3[train_index], y3[train_index]\n",
        "    X_test, y_test = x3[test_index], y3[test_index]\n",
        "    clf=DecisionTreeClassifier(criterion=\"entropy\", max_depth=4)\n",
        "    clf.fit(X_train, y_train)\n",
        "    y_pred=clf.predict(X_test)\n",
        "\n",
        "\n",
        "    false_positive_rate, true_positive_rate, thresholds = roc_curve(y_test, y_pred)\n",
        "    \n",
        "    DC_entropy_CT_f1_score.append(f1_score(y_test, y_pred, average=\"macro\"))\n",
        "    DC_entropy_CT_precision_score.append(precision_score(y_test, y_pred, average=\"macro\"))\n",
        "    DC_entropy_CT_recall_score.append(recall_score(y_test, y_pred, average=\"macro\"))\n",
        "    DC_entropy_CT_accuracy_score.append(accuracy_score(y_test, y_pred))\n",
        "    DC_entropy_CT_auc.append(auc(false_positive_rate, true_positive_rate))\n",
        "\n",
        "\n",
        "\n",
        "    \n",
        "print(\"f1_score:\",statistics.mean(DC_entropy_CT_f1_score))\n",
        "print(\"precision_score:\",statistics.mean(DC_entropy_CT_precision_score))\n",
        "print(\"recall_score\",statistics.mean(DC_entropy_CT_recall_score)) \n",
        "print(\"accuracy_score\",statistics.mean(DC_entropy_CT_accuracy_score))  \n",
        "print(\"auc\",statistics.mean(DC_entropy_CT_auc)) \n",
        "DC_entropy_CT.append(statistics.mean(DC_entropy_CT_f1_score))\n",
        "DC_entropy_CT.append(statistics.mean(DC_entropy_CT_precision_score))\n",
        "DC_entropy_CT.append(statistics.mean(DC_entropy_CT_recall_score))\n",
        "DC_entropy_CT.append(statistics.mean(DC_entropy_CT_accuracy_score))\n",
        "DC_entropy_CT.append(statistics.mean(DC_entropy_CT_auc))\n",
        "print(\"-------------------------------------\")\n",
        "\n",
        "\n",
        "\n",
        "\n",
        "plt2.title('Receiver Operating Characteristic - KNN5/CT')\n",
        "# AUC score that summarizes the ROC curve\n",
        "roc_auc = auc(false_positive_rate, true_positive_rate)\n",
        "                  \n",
        "    \n",
        "plt2.plot(false_positive_rate, true_positive_rate, lw = 2, label = 'ROC AUC: {:.2f}'.format(roc_auc))\n",
        "plt2.plot([0, 1], [0, 1],\n",
        "        linestyle = '--',\n",
        "        color = (0.6, 0.6, 0.6),\n",
        "        label = '')\n",
        "\n",
        "\n",
        "plt2.xlim([-0.05, 1.05])\n",
        "plt2.ylim([-0.05, 1.05])\n",
        "plt2.xlabel('false positive rate')\n",
        "plt2.ylabel('true positive rate')\n",
        "plt2.title('Receiver Operator Characteristic')\n",
        "plt2.legend(loc = \"lower right\")\n",
        "plt2.tight_layout()\n",
        "plt2.show()\n",
        "print(\"-------------------------------------\")\n",
        "\n",
        "\n",
        "for train_index, test_index in skf.split(x2,y2):\n",
        "    X_train, y_train = x2[train_index], y2[train_index]\n",
        "    X_test, y_test = x2[test_index], y2[test_index]\n",
        "    clf=DecisionTreeClassifier(criterion=\"entropy\", max_depth=4)\n",
        "    clf.fit(X_train, y_train)\n",
        "    y_pred=clf.predict(X_test)\n",
        "\n",
        "\n",
        "    false_positive_rate, true_positive_rate, thresholds = roc_curve(y_test, y_pred)\n",
        "    \n",
        "    DC_entropy_CC_f1_score.append(f1_score(y_test, y_pred, average=\"macro\"))\n",
        "    DC_entropy_CC_precision_score.append(precision_score(y_test, y_pred, average=\"macro\"))\n",
        "    DC_entropy_CC_recall_score.append(recall_score(y_test, y_pred, average=\"macro\"))\n",
        "    DC_entropy_CC_accuracy_score.append(accuracy_score(y_test, y_pred))\n",
        "    DC_entropy_CC_auc.append(auc(false_positive_rate, true_positive_rate))\n",
        "\n",
        "    \n",
        "print(\"f1_score:\",statistics.mean(DC_entropy_CC_f1_score))\n",
        "print(\"precision_score:\",statistics.mean(DC_entropy_CC_precision_score))\n",
        "print(\"recall_score\",statistics.mean(DC_entropy_CC_recall_score))  \n",
        "print(\"accuracy_score\",statistics.mean(DC_entropy_CC_accuracy_score))  \n",
        "print(\"auc\",statistics.mean(DC_entropy_CC_auc)) \n",
        "DC_entropy_CC.append(statistics.mean(DC_entropy_CC_f1_score))\n",
        "DC_entropy_CC.append(statistics.mean(DC_entropy_CC_precision_score))\n",
        "DC_entropy_CC.append(statistics.mean(DC_entropy_CC_recall_score))\n",
        "DC_entropy_CC.append(statistics.mean(DC_entropy_CC_accuracy_score))\n",
        "DC_entropy_CC.append(statistics.mean(DC_entropy_CC_auc))\n",
        "print(\"-------------------------------------\")\n",
        "\n",
        "\n",
        "\n",
        "\n",
        "plt3.title('Receiver Operating Characteristic - DC_entropy_/CC')\n",
        "\n",
        "# AUC score that summarizes the ROC curve\n",
        "roc_auc = auc(false_positive_rate, true_positive_rate)\n",
        "                  \n",
        "    \n",
        "plt3.plot(false_positive_rate, true_positive_rate, lw = 2, label = 'ROC AUC: {:.2f}'.format(roc_auc))\n",
        "plt3.plot([0, 1], [0, 1],\n",
        "        linestyle = '--',\n",
        "        color = (0.6, 0.6, 0.6),\n",
        "        label = '')\n",
        "\n",
        "\n",
        "plt3.xlim([-0.05, 1.05])\n",
        "plt3.ylim([-0.05, 1.05])\n",
        "plt3.xlabel('false positive rate')\n",
        "plt3.ylabel('true positive rate')\n",
        "plt3.title('Receiver Operator Characteristic')\n",
        "plt3.legend(loc = \"lower right\")\n",
        "plt3.tight_layout()\n",
        "plt3.show()\n",
        "print(\"-------------------------------------\")\n",
        "\n",
        "for train_index, test_index in skf.split(x1,y1):\n",
        "    X_train, y_train = x1[train_index], y1[train_index]\n",
        "    X_test, y_test = x1[test_index], y1[test_index]\n",
        "    clf=DecisionTreeClassifier(criterion=\"gini\", max_depth=4)\n",
        "    clf.fit(X_train, y_train)\n",
        "    y_pred=clf.predict(X_test)\n",
        "\n",
        "    false_positive_rate, true_positive_rate, thresholds = roc_curve(y_test, y_pred)\n",
        "\n",
        "    \n",
        "    DC_gini_IG_f1_score.append(f1_score(y_test, y_pred, average=\"macro\"))\n",
        "    DC_gini_IG_precision_score.append(precision_score(y_test, y_pred, average=\"macro\"))\n",
        "    DC_gini_IG_recall_score.append(recall_score(y_test, y_pred, average=\"macro\"))\n",
        "    DC_gini_IG_accuracy_score.append(accuracy_score(y_test, y_pred))\n",
        "    DC_gini_IG_auc.append(auc(false_positive_rate, true_positive_rate))\n",
        "\n",
        "\n",
        "print(\"f1_score:\",statistics.mean(DC_gini_IG_f1_score))\n",
        "print(\"precision_score:\",statistics.mean(DC_gini_IG_precision_score))\n",
        "print(\"recall_score\",statistics.mean(DC_gini_IG_recall_score)) \n",
        "print(\"accuracy_score\",statistics.mean(DC_gini_IG_accuracy_score))  \n",
        "print(\"auc\",statistics.mean(DC_gini_IG_auc)) \n",
        "DC_gini_IG.append(statistics.mean(DC_gini_IG_f1_score))\n",
        "DC_gini_IG.append(statistics.mean(DC_gini_IG_precision_score))\n",
        "DC_gini_IG.append(statistics.mean(DC_gini_IG_recall_score))\n",
        "DC_gini_IG.append(statistics.mean(DC_gini_IG_accuracy_score))\n",
        "DC_gini_IG.append(statistics.mean(DC_gini_IG_auc))\n",
        "print(\"-------------------------------------\")\n",
        "\n",
        "\n",
        "\n",
        "plt4.title('Receiver Operating Characteristic - DC_gini/IG')\n",
        "\n",
        "# AUC score that summarizes the ROC curve\n",
        "roc_auc = auc(false_positive_rate, true_positive_rate)\n",
        "                  \n",
        "    \n",
        "plt4.plot(false_positive_rate, true_positive_rate, lw = 2, label = 'ROC AUC: {:.2f}'.format(roc_auc))\n",
        "plt4.plot([0, 1], [0, 1],\n",
        "        linestyle = '--',\n",
        "        color = (0.6, 0.6, 0.6),\n",
        "        label = '')\n",
        "\n",
        "\n",
        "plt4.xlim([-0.05, 1.05])\n",
        "plt4.ylim([-0.05, 1.05])\n",
        "plt4.xlabel('false positive rate')\n",
        "plt4.ylabel('true positive rate')\n",
        "plt4.title('Receiver Operator Characteristic')\n",
        "plt4.legend(loc = \"lower right\")\n",
        "plt4.tight_layout()\n",
        "plt4.show()\n",
        "print(\"-------------------------------------\")\n",
        "\n",
        "\n",
        "for train_index, test_index in skf.split(x3,y3):\n",
        "    X_train, y_train = x3[train_index], y3[train_index]\n",
        "    X_test, y_test = x3[test_index], y3[test_index]\n",
        "    clf=DecisionTreeClassifier(criterion=\"gini\", max_depth=4)\n",
        "    clf.fit(X_train, y_train)\n",
        "    y_pred=clf.predict(X_test)\n",
        "\n",
        "\n",
        "    false_positive_rate, true_positive_rate, thresholds = roc_curve(y_test, y_pred)\n",
        "    \n",
        "    DC_gini_CT_f1_score.append(f1_score(y_test, y_pred, average=\"macro\"))\n",
        "    DC_gini_CT_precision_score.append(precision_score(y_test, y_pred, average=\"macro\"))\n",
        "    DC_gini_CT_recall_score.append(recall_score(y_test, y_pred, average=\"macro\"))\n",
        "    DC_gini_CT_accuracy_score.append(accuracy_score(y_test, y_pred))\n",
        "    DC_gini_CT_auc.append(auc(false_positive_rate, true_positive_rate))\n",
        "\n",
        "\n",
        "    \n",
        "print(\"f1_score:\",statistics.mean(DC_gini_CT_f1_score))\n",
        "print(\"precision_score:\",statistics.mean(DC_gini_CT_precision_score))\n",
        "print(\"recall_score\",statistics.mean(DC_gini_CT_recall_score)) \n",
        "print(\"accuracy_score\",statistics.mean(DC_gini_CT_accuracy_score))  \n",
        "print(\"auc\",statistics.mean(DC_gini_CT_auc)) \n",
        "DC_gini_CT.append(statistics.mean(DC_gini_CT_f1_score))\n",
        "DC_gini_CT.append(statistics.mean(DC_gini_CT_precision_score))\n",
        "DC_gini_CT.append(statistics.mean(DC_gini_CT_recall_score))\n",
        "DC_gini_CT.append(statistics.mean(DC_gini_CT_accuracy_score))\n",
        "DC_gini_CT.append(statistics.mean(DC_gini_CT_auc))\n",
        "print(\"-------------------------------------\")\n",
        "\n",
        "\n",
        "print(\"-------------------------------------\")\n",
        "\n",
        "\n",
        "\n",
        "\n",
        "plt5.title('Receiver Operating Characteristic - DC_gini/CT')\n",
        "# AUC score that summarizes the ROC curve\n",
        "roc_auc = auc(false_positive_rate, true_positive_rate)\n",
        "                  \n",
        "    \n",
        "plt5.plot(false_positive_rate, true_positive_rate, lw = 2, label = 'ROC AUC: {:.2f}'.format(roc_auc))\n",
        "plt5.plot([0, 1], [0, 1],\n",
        "        linestyle = '--',\n",
        "        color = (0.6, 0.6, 0.6),\n",
        "        label = '')\n",
        "\n",
        "\n",
        "plt5.xlim([-0.05, 1.05])\n",
        "plt5.ylim([-0.05, 1.05])\n",
        "plt5.xlabel('false positive rate')\n",
        "plt5.ylabel('true positive rate')\n",
        "plt5.title('Receiver Operator Characteristic')\n",
        "plt5.legend(loc = \"lower right\")\n",
        "plt5.tight_layout()\n",
        "plt5.show()\n",
        "\n",
        "\n",
        "\n",
        "for train_index, test_index in skf.split(x2,y2):\n",
        "    X_train, y_train = x2[train_index], y2[train_index]\n",
        "    X_test, y_test = x2[test_index], y2[test_index]\n",
        "    clf=DecisionTreeClassifier(criterion=\"gini\", max_depth=4)\n",
        "    clf.fit(X_train, y_train)\n",
        "    y_pred=clf.predict(X_test)\n",
        "\n",
        "\n",
        "    false_positive_rate, true_positive_rate, thresholds = roc_curve(y_test, y_pred)\n",
        "    \n",
        "    DC_gini_CC_f1_score.append(f1_score(y_test, y_pred, average=\"macro\"))\n",
        "    DC_gini_CC_precision_score.append(precision_score(y_test, y_pred, average=\"macro\"))\n",
        "    DC_gini_CC_recall_score.append(recall_score(y_test, y_pred, average=\"macro\"))\n",
        "    DC_gini_CC_accuracy_score.append(accuracy_score(y_test, y_pred))\n",
        "    DC_gini_CC_auc.append(auc(false_positive_rate, true_positive_rate))\n",
        "\n",
        "    \n",
        "print(\"f1_score:\",statistics.mean(DC_gini_CC_f1_score))\n",
        "print(\"precision_score:\",statistics.mean(DC_gini_CC_precision_score))\n",
        "print(\"recall_score\",statistics.mean(DC_gini_CC_recall_score))\n",
        "print(\"accuracy_score\",statistics.mean(DC_gini_CC_accuracy_score))  \n",
        "print(\"auc\",statistics.mean(DC_gini_CC_auc)) \n",
        "DC_gini_CC.append(statistics.mean(DC_gini_CC_f1_score))\n",
        "DC_gini_CC.append(statistics.mean(DC_gini_CC_precision_score))\n",
        "DC_gini_CC.append(statistics.mean(DC_gini_CC_recall_score))\n",
        "DC_gini_CC.append(statistics.mean(DC_gini_CC_accuracy_score))\n",
        "DC_gini_CC.append(statistics.mean(DC_gini_CC_auc))\n",
        "print(\"-------------------------------------\")\n",
        "\n",
        "\n",
        "\n",
        "\n",
        "plt6.title('Receiver Operating Characteristic - DC_gini/CC')\n",
        "# AUC score that summarizes the ROC curve\n",
        "roc_auc = auc(false_positive_rate, true_positive_rate)\n",
        "                  \n",
        "    \n",
        "plt6.plot(false_positive_rate, true_positive_rate, lw = 2, label = 'ROC AUC: {:.2f}'.format(roc_auc))\n",
        "plt6.plot([0, 1], [0, 1],\n",
        "        linestyle = '--',\n",
        "        color = (0.6, 0.6, 0.6),\n",
        "        label = '')\n",
        "\n",
        "\n",
        "plt6.xlim([-0.05, 1.05])\n",
        "plt6.ylim([-0.05, 1.05])\n",
        "plt6.xlabel('false positive rate')\n",
        "plt6.ylabel('true positive rate')\n",
        "plt6.title('Receiver Operator Characteristic')\n",
        "plt6.legend(loc = \"lower right\")\n",
        "plt6.tight_layout()\n",
        "plt6.show()\n",
        "\n"
      ],
      "id": "0Dc04WQ7fkX1",
      "execution_count": null,
      "outputs": [
        {
          "output_type": "display_data",
          "data": {
            "image/png": "[encoded data removed]",
            "text/plain": [
              "<Figure size 432x288 with 1 Axes>"
            ]
          },
          "metadata": {
            "tags": []
          }
        },
        {
          "output_type": "stream",
          "text": [
            "f1_score: 0.8950951903423794\n",
            "precision_score: 0.9893396080954238\n",
            "recall_score 0.8315264393216549\n",
            "accuracy_score 0.9989608036355629\n",
            "auc 0.8315264393216549\n",
            "-------------------------------------\n",
            "-------------------------------------\n",
            "f1_score: 0.8950951903423794\n",
            "precision_score: 0.9893396080954238\n",
            "recall_score 0.8315264393216549\n",
            "accuracy_score 0.9989608036355629\n",
            "auc 0.8315264393216549\n",
            "-------------------------------------\n"
          ],
          "name": "stdout"
        },
        {
          "output_type": "display_data",
          "data": {
            "image/png": "[encoded data removed]",
            "text/plain": [
              "<Figure size 432x288 with 1 Axes>"
            ]
          },
          "metadata": {
            "tags": []
          }
        },
        {
          "output_type": "stream",
          "text": [
            "-------------------------------------\n",
            "f1_score: 0.8950951903423794\n",
            "precision_score: 0.9893396080954238\n",
            "recall_score 0.8315264393216549\n",
            "accuracy_score 0.9989608036355629\n",
            "auc 0.8315264393216549\n",
            "-------------------------------------\n"
          ],
          "name": "stdout"
        },
        {
          "output_type": "display_data",
          "data": {
            "image/png": "[encoded data removed]",
            "text/plain": [
              "<Figure size 432x288 with 1 Axes>"
            ]
          },
          "metadata": {
            "tags": []
          }
        },
        {
          "output_type": "stream",
          "text": [
            "-------------------------------------\n",
            "f1_score: 0.8912213289903481\n",
            "precision_score: 0.9868017626103001\n",
            "recall_score 0.8272584581250042\n",
            "accuracy_score 0.9989257907674315\n",
            "auc 0.8272584581250042\n",
            "-------------------------------------\n"
          ],
          "name": "stdout"
        },
        {
          "output_type": "display_data",
          "data": {
            "image/png": "[encoded data removed]",
            "text/plain": [
              "<Figure size 432x288 with 1 Axes>"
            ]
          },
          "metadata": {
            "tags": []
          }
        },
        {
          "output_type": "stream",
          "text": [
            "-------------------------------------\n",
            "f1_score: 0.8912213289903481\n",
            "precision_score: 0.9868017626103001\n",
            "recall_score 0.8272584581250042\n",
            "accuracy_score 0.9989257907674315\n",
            "auc 0.8272584581250042\n",
            "-------------------------------------\n",
            "-------------------------------------\n"
          ],
          "name": "stdout"
        },
        {
          "output_type": "display_data",
          "data": {
            "image/png": "[encoded data removed]",
            "text/plain": [
              "<Figure size 432x288 with 1 Axes>"
            ]
          },
          "metadata": {
            "tags": []
          }
        },
        {
          "output_type": "stream",
          "text": [
            "f1_score: 0.8912499564006279\n",
            "precision_score: 0.9868905192133276\n",
            "recall_score 0.8272586391401371\n",
            "accuracy_score 0.9989261517248349\n",
            "auc 0.8272586391401371\n",
            "-------------------------------------\n"
          ],
          "name": "stdout"
        },
        {
          "output_type": "display_data",
          "data": {
            "image/png": "[encoded data removed]",
            "text/plain": [
              "<Figure size 432x288 with 1 Axes>"
            ]
          },
          "metadata": {
            "tags": []
          }
        }
      ]
    },
    {
      "cell_type": "code",
      "metadata": {
        "id": "9jZBhiM8ygFU"
      },
      "source": [
        "#confusion matrix\n",
        "import scikitplot as skplt\n",
        "skplt.metrics.plot_confusion_matrix(\n",
        "y_test, \n",
        "y_pred,\n",
        "figsize=(5,5))"
      ],
      "id": "9jZBhiM8ygFU",
      "execution_count": null,
      "outputs": []
    },
    {
      "cell_type": "code",
      "metadata": {
        "id": "uXKj6DNWf2wb"
      },
      "source": [
        "# Import writer class from csv module\n",
        "from csv import writer\n",
        "with open('t_test_sc.csv', 'a') as f_object:\n",
        "  \n",
        "    # Pass this file object to csv.writer()\n",
        "    # and get a writer object\n",
        "    writer_object = writer(f_object)\n",
        "  \n",
        "    # Pass the list as an argument into\n",
        "    # the writerow()\n",
        "\n",
        "    writer_object.writerow(DC_entropy_IG_f1_score)\n",
        "    writer_object.writerow(DC_entropy_IG_precision_score)\n",
        "    writer_object.writerow(DC_entropy_IG_recall_score)\n",
        "    writer_object.writerow(DC_entropy_IG_accuracy_score)\n",
        "    writer_object.writerow(DC_entropy_IG_auc)\n",
        "    writer_object.writerow(DC_gini_IG_f1_score)\n",
        "    writer_object.writerow(DC_gini_IG_precision_score)\n",
        "    writer_object.writerow(DC_gini_IG_recall_score)\n",
        "    writer_object.writerow(DC_gini_IG_accuracy_score)\n",
        "    writer_object.writerow(DC_gini_IG_auc)\n",
        "    \n",
        "\n",
        "    #Close the file object\n",
        "    f_object.close()"
      ],
      "id": "uXKj6DNWf2wb",
      "execution_count": null,
      "outputs": []
    },
    {
      "cell_type": "code",
      "metadata": {
        "id": "zz-8-frePyEX"
      },
      "source": [
        "# Import writer class from csv module\n",
        "from csv import writer\n",
        "with open('experiments_sc.csv', 'a') as f_object:\n",
        "  \n",
        "    # Pass this file object to csv.writer()\n",
        "    # and get a writer object\n",
        "    writer_object = writer(f_object)\n",
        "  \n",
        "    # Pass the list as an argument into\n",
        "    # the writerow()\n",
        "    writer_object.writerow(DC_gini_IG)\n",
        "    writer_object.writerow(DC_gini_CC)\n",
        "    writer_object.writerow(DC_gini_CT)\n",
        "    writer_object.writerow(DC_entropy_IG)\n",
        "    writer_object.writerow(DC_entropy_CC)\n",
        "    writer_object.writerow(DC_entropy_CT)\n",
        "    \n",
        "\n",
        "    #Close the file object\n",
        "    f_object.close()"
      ],
      "id": "zz-8-frePyEX",
      "execution_count": null,
      "outputs": []
    },
    {
      "cell_type": "code",
      "metadata": {
        "colab": {
          "base_uri": "https://localhost:8080/",
          "height": 1000
        },
        "id": "1028fbd5-188e-4d70-a9a4-478b9eeecf55",
        "outputId": "282b18a0-f3dc-4818-f513-d3ec9892ac65"
      },
      "source": [
        "from sklearn.neural_network import MLPClassifier\n",
        "import numpy as np\n",
        "from sklearn import preprocessing\n",
        "from sklearn.metrics import accuracy_score, f1_score, precision_score, recall_score, classification_report, confusion_matrix\n",
        "from sklearn.metrics import roc_curve, auc, roc_auc_score\n",
        "\n",
        "\n",
        "\n",
        "MLP_IG=[]\n",
        "MLP_CC=[]\n",
        "MLP_CT=[]\n",
        "\n",
        "#Remove Least Important Features by Information Gain Feature Selection Method\n",
        "df1=df.drop('isFlaggedFraud', 1)\n",
        "df1=df.drop('type', 1)\n",
        "df1=df.drop('newbalanceOrig', 1)\n",
        "\n",
        "# FEATCHING FEATURES AND TARGET VARIABLES IN ARRAY FORMAT.\n",
        "# Input_x_Features.\n",
        "x1 = df1.drop(\"isFraud\",1)\n",
        "# Input_ y_Target_Variable.\n",
        "y1 = df1.isFraud\n",
        "\n",
        "# Feature Scaling for input features.\n",
        "x1=x1.to_numpy()\n",
        "y1=y1.to_numpy()\n",
        "\n",
        "#Remove Least Important Features by Correlation Coefficient Feature Selection Method\n",
        "df2=df.drop('nameOrig', 1)\n",
        "df2=df.drop('oldbalanceDest', 1)\n",
        "df2=df.drop('newbalanceOrig', 1)\n",
        "df2=df.drop('nameDest', 1)\n",
        "\n",
        "# FEATCHING FEATURES AND TARGET VARIABLES IN ARRAY FORMAT.\n",
        "# Input_x_Features.\n",
        "x2 = df2.drop(\"isFraud\",1)\n",
        "# Input_ y_Target_Variable.\n",
        "y2 = df2.isFraud\n",
        "\n",
        "# Feature Scaling for input features.\n",
        "x2=x2.to_numpy()\n",
        "y2=y2.to_numpy()\n",
        "\n",
        "\n",
        "#Remove Least Important Features by Chi Square Test Feature Selection Method\n",
        "df3=df.drop('nameOrig', 1)\n",
        "df3=df.drop('newbalanceDest', 1)\n",
        "df3=df.drop('type', 1)\n",
        "df3=df.drop('step', 1)\n",
        "df3=df.drop('isFlaggedFraud', 1)\n",
        "\n",
        "# FEATCHING FEATURES AND TARGET VARIABLES IN ARRAY FORMAT.\n",
        "# Input_x_Features.\n",
        "x3 = df3.drop(\"isFraud\",1)\n",
        "# Input_ y_Target_Variable.\n",
        "y3 = df3.isFraud\n",
        "\n",
        "# Feature Scaling for input features.\n",
        "x3=x3.to_numpy()\n",
        "y3=y3.to_numpy()\n",
        "\n",
        "\n",
        "# Input_x_Features.\n",
        "#x = df.drop(\"isFraud\",1)\n",
        "# Input_ y_Target_Variable.\n",
        "#y = df.isFraud\n",
        "from sklearn.model_selection import train_test_split\n",
        "X_train, X_test, y_train, y_test = train_test_split(x1, y1, test_size=0.3, random_state=43)\n",
        "\n",
        "\n",
        "\n",
        "scaler = preprocessing.MinMaxScaler()\n",
        "x_scaled = scaler.fit_transform(X_train)\n",
        "x_test = scaler.fit_transform(X_test)\n",
        "\n",
        "\n",
        "from sklearn.neural_network import MLPClassifier\n",
        "mlp=MLPClassifier(max_iter=100)\n",
        "mlp.fit(x_scaled,y_train)\n",
        "pred=mlp.predict(x_test)\n",
        "\n",
        "false_positive_rate, true_positive_rate, thresholds = roc_curve(y_test, pred)\n",
        "\n",
        "print(f1_score(y_test, pred, average=\"macro\"))\n",
        "print(precision_score(y_test, pred, average=\"macro\"))\n",
        "print(recall_score(y_test, pred, average=\"macro\"))\n",
        "print(accuracy_score(y_test, pred))\n",
        "print(auc(false_positive_rate, true_positive_rate))\n",
        "MLP_IG.append(f1_score(y_test, pred, average=\"macro\"))\n",
        "MLP_IG.append(precision_score(y_test, pred, average=\"macro\"))\n",
        "MLP_IG.append(recall_score(y_test, pred, average=\"macro\"))\n",
        "MLP_IG.append(accuracy_score(y_test, pred))\n",
        "MLP_IG.append(auc(false_positive_rate, true_positive_rate))\n",
        "print(\"-------------------------------------\")\n",
        "\n",
        "# AUC score that summarizes the ROC curve\n",
        "roc_auc = auc(false_positive_rate, true_positive_rate)\n",
        "                  \n",
        "    \n",
        "plt.plot(false_positive_rate, true_positive_rate, lw = 2, label = 'ROC AUC: {:.2f}'.format(roc_auc))\n",
        "plt.plot([0, 1], [0, 1],\n",
        "        linestyle = '--',\n",
        "        color = (0.6, 0.6, 0.6),\n",
        "        label = '')\n",
        "\n",
        "\n",
        "plt.xlim([-0.05, 1.05])\n",
        "plt.ylim([-0.05, 1.05])\n",
        "plt.xlabel('false positive rate')\n",
        "plt.ylabel('true positive rate')\n",
        "plt.title('Receiver Operator Characteristic')\n",
        "plt.legend(loc = \"lower right\")\n",
        "plt.tight_layout()\n",
        "plt.show()\n",
        "\n",
        "\n",
        "\n",
        "X_train, X_test, y_train, y_test = train_test_split(x2, y2, test_size=0.3, random_state=43)\n",
        "\n",
        "\n",
        "\n",
        "scaler = preprocessing.MinMaxScaler()\n",
        "x_scaled = scaler.fit_transform(X_train)\n",
        "x_test = scaler.fit_transform(X_test)\n",
        "\n",
        "\n",
        "from sklearn.neural_network import MLPClassifier\n",
        "mlp=MLPClassifier(max_iter=100)\n",
        "mlp.fit(x_scaled,y_train)\n",
        "pred=mlp.predict(x_test)\n",
        "\n",
        "false_positive_rate, true_positive_rate, thresholds = roc_curve(y_test, pred)\n",
        "\n",
        "print(f1_score(y_test, pred, average=\"macro\"))\n",
        "print(precision_score(y_test, pred, average=\"macro\"))\n",
        "print(recall_score(y_test, pred, average=\"macro\"))\n",
        "print(accuracy_score(y_test, pred))\n",
        "print(auc(false_positive_rate, true_positive_rate))\n",
        "MLP_CC.append(f1_score(y_test, pred, average=\"macro\"))\n",
        "MLP_CC.append(precision_score(y_test, pred, average=\"macro\"))\n",
        "MLP_CC.append(recall_score(y_test, pred, average=\"macro\"))\n",
        "MLP_CC.append(accuracy_score(y_test, pred))\n",
        "MLP_CC.append(auc(false_positive_rate, true_positive_rate))\n",
        "print(\"-------------------------------------\")\n",
        "\n",
        "\n",
        "# AUC score that summarizes the ROC curve\n",
        "roc_auc = auc(false_positive_rate, true_positive_rate)\n",
        "                  \n",
        "    \n",
        "plt.plot(false_positive_rate, true_positive_rate, lw = 2, label = 'ROC AUC: {:.2f}'.format(roc_auc))\n",
        "plt.plot([0, 1], [0, 1],\n",
        "        linestyle = '--',\n",
        "        color = (0.6, 0.6, 0.6),\n",
        "        label = '')\n",
        "\n",
        "\n",
        "plt.xlim([-0.05, 1.05])\n",
        "plt.ylim([-0.05, 1.05])\n",
        "plt.xlabel('false positive rate')\n",
        "plt.ylabel('true positive rate')\n",
        "plt.title('Receiver Operator Characteristic')\n",
        "plt.legend(loc = \"lower right\")\n",
        "plt.tight_layout()\n",
        "plt.show()\n",
        "\n",
        "\n",
        "X_train, X_test, y_train, y_test = train_test_split(x3, y3, test_size=0.3, random_state=43)\n",
        "\n",
        "\n",
        "\n",
        "scaler = preprocessing.MinMaxScaler()\n",
        "x_scaled = scaler.fit_transform(X_train)\n",
        "x_test = scaler.fit_transform(X_test)\n",
        "\n",
        "\n",
        "from sklearn.neural_network import MLPClassifier\n",
        "mlp=MLPClassifier(max_iter=100)\n",
        "mlp.fit(x_scaled,y_train)\n",
        "pred=mlp.predict(x_test)\n",
        "\n",
        "false_positive_rate, true_positive_rate, thresholds = roc_curve(y_test, pred)\n",
        "\n",
        "print(f1_score(y_test, pred, average=\"macro\"))\n",
        "print(precision_score(y_test, pred, average=\"macro\"))\n",
        "print(recall_score(y_test, pred, average=\"macro\"))\n",
        "print(accuracy_score(y_test, pred))\n",
        "print(auc(false_positive_rate, true_positive_rate))\n",
        "MLP_CT.append(f1_score(y_test, pred, average=\"macro\"))\n",
        "MLP_CT.append(precision_score(y_test, pred, average=\"macro\"))\n",
        "MLP_CT.append(recall_score(y_test, pred, average=\"macro\"))\n",
        "MLP_CT.append(accuracy_score(y_test, pred))\n",
        "MLP_CT.append(auc(false_positive_rate, true_positive_rate))\n",
        "print(\"-------------------------------------\")\n",
        "\n",
        "\n",
        "# AUC score that summarizes the ROC curve\n",
        "roc_auc = auc(false_positive_rate, true_positive_rate)\n",
        "                  \n",
        "    \n",
        "plt.plot(false_positive_rate, true_positive_rate, lw = 2, label = 'ROC AUC: {:.2f}'.format(roc_auc))\n",
        "plt.plot([0, 1], [0, 1],\n",
        "        linestyle = '--',\n",
        "        color = (0.6, 0.6, 0.6),\n",
        "        label = '')\n",
        "\n",
        "\n",
        "plt.xlim([-0.05, 1.05])\n",
        "plt.ylim([-0.05, 1.05])\n",
        "plt.xlabel('false positive rate')\n",
        "plt.ylabel('true positive rate')\n",
        "plt.title('Receiver Operator Characteristic')\n",
        "plt.legend(loc = \"lower right\")\n",
        "plt.tight_layout()\n",
        "plt.show()\n",
        "\n"
      ],
      "id": "1028fbd5-188e-4d70-a9a4-478b9eeecf55",
      "execution_count": null,
      "outputs": [
        {
          "output_type": "stream",
          "text": [
            "0.7879411340823692\n",
            "0.9913596052077562\n",
            "0.7039245085201133\n",
            "0.9982060417050184\n",
            "0.7039245085201135\n",
            "-------------------------------------\n"
          ],
          "name": "stdout"
        },
        {
          "output_type": "display_data",
          "data": {
            "image/png": "[encoded data removed]",
            "text/plain": [
              "<Figure size 432x288 with 1 Axes>"
            ]
          },
          "metadata": {
            "tags": []
          }
        },
        {
          "output_type": "stream",
          "text": [
            "0.8264447652988596\n",
            "0.987274904015663\n",
            "0.7456663619457062\n",
            "0.9984394608258946\n",
            "0.7456663619457062\n",
            "-------------------------------------\n"
          ],
          "name": "stdout"
        },
        {
          "output_type": "display_data",
          "data": {
            "image/png": "[encoded data removed]",
            "text/plain": [
              "<Figure size 432x288 with 1 Axes>"
            ]
          },
          "metadata": {
            "tags": []
          }
        },
        {
          "output_type": "stream",
          "text": [
            "0.8240480349705437\n",
            "0.9926672311279199\n",
            "0.7416603575767171\n",
            "0.9984322416778263\n",
            "0.7416603575767172\n",
            "-------------------------------------\n"
          ],
          "name": "stdout"
        },
        {
          "output_type": "display_data",
          "data": {
            "image/png": "[encoded data removed]",
            "text/plain": [
              "<Figure size 432x288 with 1 Axes>"
            ]
          },
          "metadata": {
            "tags": []
          }
        }
      ]
    },
    {
      "cell_type": "markdown",
      "metadata": {
        "id": "TbQz26-dUKl7"
      },
      "source": [
        "**T-Test Between Two Best Model**"
      ],
      "id": "TbQz26-dUKl7"
    },
    {
      "cell_type": "code",
      "metadata": {
        "id": "Owqc9lWTUTej"
      },
      "source": [
        "import numpy as np\n",
        "# display test scores\n",
        "def t_test(DTREE_ENTROPY_IG_score, DTREE_GINI_IG_score):\n",
        "  string=\"\"\n",
        "  #Compute the difference between the results\n",
        "  diff = [y - x for y, x in zip(DTREE_ENTROPY_IG_score, DTREE_GINI_IG_score)]\n",
        "  #Comopute the mean of differences\n",
        "  d_bar = np.mean(diff)\n",
        "  #compute the variance of differences\n",
        "  sigma2 = np.var(diff)\n",
        "  #compute the number of data points used for training \n",
        "  n1 = 2493369\n",
        "  #compute the number of data points used for testing \n",
        "  n2 = 277040\n",
        "  #compute the total number of data points\n",
        "  n = 2770409\n",
        "  #compute the modified variance\n",
        "  sigma2_mod = sigma2 * (1/n + n2/n1)\n",
        "  #compute the t_static\n",
        "  t_static =  d_bar / np.sqrt(sigma2_mod)\n",
        "  from scipy.stats import t\n",
        "  #Compute p-value and plot the results \n",
        "  Pvalue = ((1 - t.cdf(t_static, n-1))*200)\n",
        "  \n",
        "  if Pvalue>0.05:\n",
        "    string += \"p-value>0.05 so there's NO significant difference between models.\"\n",
        "  else:\n",
        "    string += \"p-value<=0.05 so there's A significant difference between models.\" \n",
        "  return string,t_static,Pvalue"
      ],
      "id": "Owqc9lWTUTej",
      "execution_count": null,
      "outputs": []
    },
    {
      "cell_type": "code",
      "metadata": {
        "colab": {
          "base_uri": "https://localhost:8080/",
          "height": 359
        },
        "id": "-eU88_YBed6l",
        "outputId": "7dca82ff-aa7d-4062-f87a-16da194e1b99"
      },
      "source": [
        "# load data\n",
        "import pandas as pd\n",
        "\n",
        "df = pd.read_csv(\"/content/drive/My Drive/t_test_sc.csv\",header=None, \n",
        "                 index_col=False)\n",
        "df.head(10)"
      ],
      "id": "-eU88_YBed6l",
      "execution_count": null,
      "outputs": [
        {
          "output_type": "execute_result",
          "data": {
            "text/html": [
              "<div>\n",
              "<style scoped>\n",
              "    .dataframe tbody tr th:only-of-type {\n",
              "        vertical-align: middle;\n",
              "    }\n",
              "\n",
              "    .dataframe tbody tr th {\n",
              "        vertical-align: top;\n",
              "    }\n",
              "\n",
              "    .dataframe thead th {\n",
              "        text-align: right;\n",
              "    }\n",
              "</style>\n",
              "<table border=\"1\" class=\"dataframe\">\n",
              "  <thead>\n",
              "    <tr style=\"text-align: right;\">\n",
              "      <th></th>\n",
              "      <th>0</th>\n",
              "      <th>1</th>\n",
              "      <th>2</th>\n",
              "      <th>3</th>\n",
              "      <th>4</th>\n",
              "      <th>5</th>\n",
              "      <th>6</th>\n",
              "      <th>7</th>\n",
              "      <th>8</th>\n",
              "      <th>9</th>\n",
              "    </tr>\n",
              "  </thead>\n",
              "  <tbody>\n",
              "    <tr>\n",
              "      <th>0</th>\n",
              "      <td>0.902203</td>\n",
              "      <td>0.893898</td>\n",
              "      <td>0.905744</td>\n",
              "      <td>0.883135</td>\n",
              "      <td>0.900901</td>\n",
              "      <td>0.895968</td>\n",
              "      <td>0.885361</td>\n",
              "      <td>0.896418</td>\n",
              "      <td>0.889023</td>\n",
              "      <td>0.898302</td>\n",
              "    </tr>\n",
              "    <tr>\n",
              "      <th>1</th>\n",
              "      <td>0.991604</td>\n",
              "      <td>0.991295</td>\n",
              "      <td>0.988397</td>\n",
              "      <td>0.988131</td>\n",
              "      <td>0.988998</td>\n",
              "      <td>0.989628</td>\n",
              "      <td>0.990967</td>\n",
              "      <td>0.987075</td>\n",
              "      <td>0.988426</td>\n",
              "      <td>0.988875</td>\n",
              "    </tr>\n",
              "    <tr>\n",
              "      <th>2</th>\n",
              "      <td>0.840422</td>\n",
              "      <td>0.828851</td>\n",
              "      <td>0.847114</td>\n",
              "      <td>0.815447</td>\n",
              "      <td>0.839808</td>\n",
              "      <td>0.832501</td>\n",
              "      <td>0.817280</td>\n",
              "      <td>0.834323</td>\n",
              "      <td>0.823364</td>\n",
              "      <td>0.836154</td>\n",
              "    </tr>\n",
              "    <tr>\n",
              "      <th>3</th>\n",
              "      <td>0.999022</td>\n",
              "      <td>0.998953</td>\n",
              "      <td>0.999047</td>\n",
              "      <td>0.998863</td>\n",
              "      <td>0.999007</td>\n",
              "      <td>0.998968</td>\n",
              "      <td>0.998885</td>\n",
              "      <td>0.998968</td>\n",
              "      <td>0.998910</td>\n",
              "      <td>0.998986</td>\n",
              "    </tr>\n",
              "    <tr>\n",
              "      <th>4</th>\n",
              "      <td>0.840422</td>\n",
              "      <td>0.828851</td>\n",
              "      <td>0.847114</td>\n",
              "      <td>0.815447</td>\n",
              "      <td>0.839808</td>\n",
              "      <td>0.832501</td>\n",
              "      <td>0.817280</td>\n",
              "      <td>0.834323</td>\n",
              "      <td>0.823364</td>\n",
              "      <td>0.836154</td>\n",
              "    </tr>\n",
              "    <tr>\n",
              "      <th>5</th>\n",
              "      <td>0.895693</td>\n",
              "      <td>0.889310</td>\n",
              "      <td>0.902750</td>\n",
              "      <td>0.880449</td>\n",
              "      <td>0.900324</td>\n",
              "      <td>0.890685</td>\n",
              "      <td>0.880840</td>\n",
              "      <td>0.893212</td>\n",
              "      <td>0.885916</td>\n",
              "      <td>0.893034</td>\n",
              "    </tr>\n",
              "    <tr>\n",
              "      <th>6</th>\n",
              "      <td>0.986185</td>\n",
              "      <td>0.989328</td>\n",
              "      <td>0.985768</td>\n",
              "      <td>0.985267</td>\n",
              "      <td>0.987287</td>\n",
              "      <td>0.986757</td>\n",
              "      <td>0.988014</td>\n",
              "      <td>0.985186</td>\n",
              "      <td>0.985603</td>\n",
              "      <td>0.988622</td>\n",
              "    </tr>\n",
              "    <tr>\n",
              "      <th>7</th>\n",
              "      <td>0.833712</td>\n",
              "      <td>0.823366</td>\n",
              "      <td>0.844064</td>\n",
              "      <td>0.813006</td>\n",
              "      <td>0.839804</td>\n",
              "      <td>0.826406</td>\n",
              "      <td>0.812402</td>\n",
              "      <td>0.830665</td>\n",
              "      <td>0.820314</td>\n",
              "      <td>0.828846</td>\n",
              "    </tr>\n",
              "    <tr>\n",
              "      <th>8</th>\n",
              "      <td>0.998960</td>\n",
              "      <td>0.998914</td>\n",
              "      <td>0.999018</td>\n",
              "      <td>0.998838</td>\n",
              "      <td>0.999000</td>\n",
              "      <td>0.998921</td>\n",
              "      <td>0.998845</td>\n",
              "      <td>0.998939</td>\n",
              "      <td>0.998881</td>\n",
              "      <td>0.998942</td>\n",
              "    </tr>\n",
              "    <tr>\n",
              "      <th>9</th>\n",
              "      <td>0.833712</td>\n",
              "      <td>0.823366</td>\n",
              "      <td>0.844064</td>\n",
              "      <td>0.813006</td>\n",
              "      <td>0.839804</td>\n",
              "      <td>0.826406</td>\n",
              "      <td>0.812402</td>\n",
              "      <td>0.830665</td>\n",
              "      <td>0.820314</td>\n",
              "      <td>0.828846</td>\n",
              "    </tr>\n",
              "  </tbody>\n",
              "</table>\n",
              "</div>"
            ],
            "text/plain": [
              "          0         1         2  ...         7         8         9\n",
              "0  0.902203  0.893898  0.905744  ...  0.896418  0.889023  0.898302\n",
              "1  0.991604  0.991295  0.988397  ...  0.987075  0.988426  0.988875\n",
              "2  0.840422  0.828851  0.847114  ...  0.834323  0.823364  0.836154\n",
              "3  0.999022  0.998953  0.999047  ...  0.998968  0.998910  0.998986\n",
              "4  0.840422  0.828851  0.847114  ...  0.834323  0.823364  0.836154\n",
              "5  0.895693  0.889310  0.902750  ...  0.893212  0.885916  0.893034\n",
              "6  0.986185  0.989328  0.985768  ...  0.985186  0.985603  0.988622\n",
              "7  0.833712  0.823366  0.844064  ...  0.830665  0.820314  0.828846\n",
              "8  0.998960  0.998914  0.999018  ...  0.998939  0.998881  0.998942\n",
              "9  0.833712  0.823366  0.844064  ...  0.830665  0.820314  0.828846\n",
              "\n",
              "[10 rows x 10 columns]"
            ]
          },
          "metadata": {
            "tags": []
          },
          "execution_count": 6
        }
      ]
    },
    {
      "cell_type": "code",
      "metadata": {
        "colab": {
          "base_uri": "https://localhost:8080/"
        },
        "id": "ArOJbghip9Dj",
        "outputId": "c0b9e085-a31e-4a54-8fe9-63d8368d4bc2"
      },
      "source": [
        "df_list = df.values.tolist()\n",
        "print(df_list)\n"
      ],
      "id": "ArOJbghip9Dj",
      "execution_count": null,
      "outputs": [
        {
          "output_type": "stream",
          "text": [
            "[[0.902202640947617, 0.893898241166345, 0.9057440689023636, 0.8831347403828056, 0.9009014688438036, 0.895967687095266, 0.8853607453278949, 0.8964175697702519, 0.8890229923105991, 0.8983017486768476], [0.9916036391348709, 0.991295126553924, 0.9883968150299028, 0.9881313466460748, 0.9889980466210504, 0.9896283569491504, 0.9909669600643, 0.9870747057535708, 0.9884258601532848, 0.9888752240481088], [0.8404221982848143, 0.8288509437172139, 0.8471141050607421, 0.8154472185007432, 0.8398077544325337, 0.8325014038043251, 0.8172796891496135, 0.8343230135452235, 0.8233643926785751, 0.8361536740427651], [0.9990218054367404, 0.9989532235300912, 0.9990470724549796, 0.998862984179237, 0.9990073671406038, 0.998967661826228, 0.998884641623442, 0.998967661826228, 0.9989099086416812, 0.9989857096963988], [0.8404221982848143, 0.8288509437172138, 0.8471141050607423, 0.8154472185007433, 0.8398077544325337, 0.8325014038043251, 0.8172796891496134, 0.8343230135452234, 0.8233643926785752, 0.8361536740427651], [0.8956932171113026, 0.8893095145826522, 0.9027496467220754, 0.8804494603372179, 0.9003237070619755, 0.8906850219922744, 0.8808398028031449, 0.8932122947612464, 0.8859163381352166, 0.8930342863963756], [0.9861847978242742, 0.9893279843308056, 0.9857676403778629, 0.9852671766235572, 0.9872865967319596, 0.9867573397917604, 0.9880144987735144, 0.98518598466894, 0.985603329845942, 0.9886222771343841], [0.8337121899956, 0.8233662028299037, 0.8440636076152823, 0.8130057344535782, 0.8398041341298763, 0.8264058393673916, 0.8124021515092694, 0.8306653128527977, 0.8203138952331153, 0.8288455132632281], [0.9989604426781596, 0.9989135182157154, 0.9990181958627062, 0.9988377171609978, 0.9990001479925354, 0.9989207373637836, 0.998844936309066, 0.9989387852339544, 0.9988810320494078, 0.9989423948079889], [0.8337121899956, 0.8233662028299038, 0.8440636076152823, 0.8130057344535782, 0.8398041341298763, 0.8264058393673916, 0.8124021515092693, 0.8306653128527975, 0.8203138952331153, 0.8288455132632281]]\n"
          ],
          "name": "stdout"
        }
      ]
    },
    {
      "cell_type": "code",
      "metadata": {
        "colab": {
          "base_uri": "https://localhost:8080/"
        },
        "id": "mLoqCggOv3q4",
        "outputId": "3da4058d-8955-4c78-d902-11e758b8d808"
      },
      "source": [
        "#f1 score\n",
        "t_test(df_list[0],df_list[5])"
      ],
      "id": "mLoqCggOv3q4",
      "execution_count": null,
      "outputs": [
        {
          "output_type": "execute_result",
          "data": {
            "text/plain": [
              "(\"p-value<=0.05 so there's A significant difference between models.\",\n",
              " 7.2228622946768155,\n",
              " 5.091482790930968e-11)"
            ]
          },
          "metadata": {
            "tags": []
          },
          "execution_count": 8
        }
      ]
    },
    {
      "cell_type": "code",
      "metadata": {
        "colab": {
          "base_uri": "https://localhost:8080/"
        },
        "id": "0RmLFp54wkHy",
        "outputId": "c9fd7024-bf83-46b5-880f-54564c8851c7"
      },
      "source": [
        "#precision score\n",
        "t_test(df_list[1],df_list[6])"
      ],
      "id": "0RmLFp54wkHy",
      "execution_count": null,
      "outputs": [
        {
          "output_type": "execute_result",
          "data": {
            "text/plain": [
              "(\"p-value<=0.05 so there's A significant difference between models.\",\n",
              " 6.129260759394118,\n",
              " 8.83001671780903e-08)"
            ]
          },
          "metadata": {
            "tags": []
          },
          "execution_count": 9
        }
      ]
    },
    {
      "cell_type": "code",
      "metadata": {
        "colab": {
          "base_uri": "https://localhost:8080/"
        },
        "id": "H01Dm4XLwkUU",
        "outputId": "4f734de0-bd50-4a45-c8c3-7814cc82c5e7"
      },
      "source": [
        "#recall score\n",
        "t_test(df_list[2],df_list[7])"
      ],
      "id": "H01Dm4XLwkUU",
      "execution_count": null,
      "outputs": [
        {
          "output_type": "execute_result",
          "data": {
            "text/plain": [
              "(\"p-value<=0.05 so there's A significant difference between models.\",\n",
              " 6.018732092097544,\n",
              " 1.758104772875413e-07)"
            ]
          },
          "metadata": {
            "tags": []
          },
          "execution_count": 10
        }
      ]
    },
    {
      "cell_type": "code",
      "metadata": {
        "colab": {
          "base_uri": "https://localhost:8080/"
        },
        "id": "Rb_CXxIRwkau",
        "outputId": "373f1bae-6178-4296-f0e1-355e8f0880c8"
      },
      "source": [
        "#accuracy score\n",
        "t_test(df_list[3],df_list[8])"
      ],
      "id": "Rb_CXxIRwkau",
      "execution_count": null,
      "outputs": [
        {
          "output_type": "execute_result",
          "data": {
            "text/plain": [
              "(\"p-value<=0.05 so there's A significant difference between models.\",\n",
              " 7.5616320046041725,\n",
              " 3.9745984281580604e-12)"
            ]
          },
          "metadata": {
            "tags": []
          },
          "execution_count": 11
        }
      ]
    },
    {
      "cell_type": "code",
      "metadata": {
        "colab": {
          "base_uri": "https://localhost:8080/"
        },
        "id": "aJs7uGvgwkhH",
        "outputId": "099f0b6b-fcff-4fd0-fd4b-c6e78f8792da"
      },
      "source": [
        "#auc score\n",
        "t_test(df_list[4],df_list[9])"
      ],
      "id": "aJs7uGvgwkhH",
      "execution_count": null,
      "outputs": [
        {
          "output_type": "execute_result",
          "data": {
            "text/plain": [
              "(\"p-value<=0.05 so there's A significant difference between models.\",\n",
              " 6.018732092097659,\n",
              " 1.758104772875413e-07)"
            ]
          },
          "metadata": {
            "tags": []
          },
          "execution_count": 12
        }
      ]
    }
  ]
}