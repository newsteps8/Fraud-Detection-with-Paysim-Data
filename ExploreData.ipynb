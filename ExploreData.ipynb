{
 "cells": [
  {
   "cell_type": "code",
   "execution_count": 32,
   "metadata": {},
   "outputs": [],
   "source": [
    "import pandas as pd\n",
    "from scipy.stats import entropy"
   ]
  },
  {
   "cell_type": "code",
   "execution_count": 33,
   "metadata": {},
   "outputs": [
    {
     "name": "stdout",
     "output_type": "stream",
     "text": [
      "<class 'pandas.core.frame.DataFrame'>\n",
      "RangeIndex: 6362620 entries, 0 to 6362619\n",
      "Data columns (total 11 columns):\n",
      " #   Column          Dtype  \n",
      "---  ------          -----  \n",
      " 0   step            int64  \n",
      " 1   type            object \n",
      " 2   amount          float64\n",
      " 3   nameOrig        object \n",
      " 4   oldbalanceOrg   float64\n",
      " 5   newbalanceOrig  float64\n",
      " 6   nameDest        object \n",
      " 7   oldbalanceDest  float64\n",
      " 8   newbalanceDest  float64\n",
      " 9   isFraud         int64  \n",
      " 10  isFlaggedFraud  int64  \n",
      "dtypes: float64(5), int64(3), object(3)\n",
      "memory usage: 534.0+ MB\n"
     ]
    }
   ],
   "source": [
    "data = pd.read_csv('PS_20174392719_1491204439457_log.csv')\n",
    "data.info()"
   ]
  },
  {
   "cell_type": "code",
   "execution_count": 34,
   "metadata": {},
   "outputs": [
    {
     "name": "stdout",
     "output_type": "stream",
     "text": [
      "step :\t 1 \t 743\n",
      "amount :\t 0.0 \t 92445516.64\n",
      "oldbalanceOrg :\t 0.0 \t 59585040.37\n",
      "newbalanceOrig :\t 0.0 \t 49585040.37\n",
      "oldbalanceDest :\t 0.0 \t 356015889.35\n",
      "newbalanceDest :\t 0.0 \t 356179278.92\n"
     ]
    }
   ],
   "source": [
    "# Min and max calculation for numeric attributes\n",
    "\n",
    "feature_list = [\"step\", \"amount\", \"oldbalanceOrg\", \"newbalanceOrig\", \"oldbalanceDest\", \"newbalanceDest\"]\n",
    "for name in feature_list:\n",
    "    print(name, \":\\t\", data[name].min(), \"\\t\", data[name].max())"
   ]
  },
  {
   "cell_type": "code",
   "execution_count": 35,
   "metadata": {},
   "outputs": [
    {
     "name": "stdout",
     "output_type": "stream",
     "text": [
      "type \tLeast frequent:  DEBIT \tMost frequent:  CASH_OUT\n",
      "nameOrig \tLeast frequent:  C2066766136 \tMost frequent:  C1999539787\n",
      "nameDest \tLeast frequent:  M917557255 \tMost frequent:  C1286084959\n"
     ]
    }
   ],
   "source": [
    "# Min and max calculation for nominal attributes\n",
    "feature_list = [\"type\", \"nameOrig\", \"nameDest\"]\n",
    "\n",
    "for name in feature_list:\n",
    "    count = data[name].value_counts()\n",
    "    print(name, \"\\tLeast frequent: \", count.index[-1], \"\\tMost frequent: \", count.index[0])"
   ]
  },
  {
   "cell_type": "code",
   "execution_count": 36,
   "metadata": {},
   "outputs": [
    {
     "name": "stdout",
     "output_type": "stream",
     "text": [
      "Number of mean values at each column that has numerical values: \n",
      "step 243.39724563151657\n",
      "amount 179861.90354912292\n",
      "oldbalanceOrg 833883.1040744851\n",
      "newbalanceOrig 855113.6685785672\n",
      "oldbalanceDest 1100701.6665196999\n",
      "newbalanceDest 1224996.3982020712\n"
     ]
    }
   ],
   "source": [
    "# Average calculation\n",
    "\n",
    "print(\"Number of mean values at each column that has numerical values: \")\n",
    "print(\"step\", data[\"step\"].mean())\n",
    "print(\"amount\", data['amount'].mean())\n",
    "print(\"oldbalanceOrg\", data['oldbalanceOrg'].mean())\n",
    "print(\"newbalanceOrig\", data['newbalanceOrig'].mean())\n",
    "print(\"oldbalanceDest\", data['oldbalanceDest'].mean())\n",
    "print(\"newbalanceDest\", data['newbalanceDest'].mean())"
   ]
  },
  {
   "cell_type": "code",
   "execution_count": 37,
   "metadata": {},
   "outputs": [
    {
     "data": {
      "text/plain": [
       "step              1.423320e+02\n",
       "amount            6.038582e+05\n",
       "oldbalanceOrg     2.888243e+06\n",
       "newbalanceOrig    2.924049e+06\n",
       "oldbalanceDest    3.399180e+06\n",
       "newbalanceDest    3.674129e+06\n",
       "isFraud           3.590480e-02\n",
       "isFlaggedFraud    1.585775e-03\n",
       "dtype: float64"
      ]
     },
     "execution_count": 37,
     "metadata": {},
     "output_type": "execute_result"
    }
   ],
   "source": [
    "# Standard deviation calculation for all of the attributes\n",
    "\n",
    "data.std(axis = 0, skipna = True)"
   ]
  },
  {
   "cell_type": "code",
   "execution_count": 38,
   "metadata": {},
   "outputs": [
    {
     "name": "stdout",
     "output_type": "stream",
     "text": [
      "step \t 5.527651304128\n",
      "type \t 1.3077127505527053\n",
      "amount \t 15.40857322593628\n",
      "nameOrig \t 15.663920440336357\n",
      "oldbalanceOrg \t 9.39230530936041\n",
      "newbalanceOrig \t 7.084506500021492\n",
      "nameDest \t 14.031859289739966\n",
      "oldbalanceDest \t 9.359815637129216\n",
      "newbalanceDest \t 9.937340566518557\n",
      "isFraud \t 0.009877140654427321\n",
      "isFlaggedFraud \t 3.493745864589843e-05\n"
     ]
    }
   ],
   "source": [
    "# Entropy calculation for all of the attributes\n",
    "\n",
    "feature_list = [\"step\", \"type\", \"amount\", \"nameOrig\", \"oldbalanceOrg\",\n",
    "                \"newbalanceOrig\", \"nameDest\", \"oldbalanceDest\",\n",
    "                \"newbalanceDest\",\"isFraud\", \"isFlaggedFraud\"]\n",
    "\n",
    "entropy_list = []\n",
    "for name in feature_list:\n",
    "    count = data[name].value_counts()\n",
    "    entropy_list.append(entropy(count))\n",
    "\n",
    "for i in range(len(entropy_list)):\n",
    "    print(feature_list[i], \"\\t\", entropy_list[i], end=\"\\n\")"
   ]
  },
  {
   "cell_type": "code",
   "execution_count": 39,
   "metadata": {},
   "outputs": [
    {
     "name": "stdout",
     "output_type": "stream",
     "text": [
      " \n",
      "Count total missing values at each column in a DataFrame : \n",
      "\n",
      " step              0\n",
      "type              0\n",
      "amount            0\n",
      "nameOrig          0\n",
      "oldbalanceOrg     0\n",
      "newbalanceOrig    0\n",
      "nameDest          0\n",
      "oldbalanceDest    0\n",
      "newbalanceDest    0\n",
      "isFraud           0\n",
      "isFlaggedFraud    0\n",
      "dtype: int64\n"
     ]
    }
   ],
   "source": [
    "# Missing values in each attribute\n",
    "\n",
    "print(\" \\nCount total missing values at each column in a DataFrame : \\n\\n\", data.isnull().sum())"
   ]
  },
  {
   "cell_type": "code",
   "execution_count": null,
   "metadata": {},
   "outputs": [],
   "source": []
  }
 ],
 "metadata": {
  "kernelspec": {
   "display_name": "Python 3",
   "language": "python",
   "name": "python3"
  },
  "language_info": {
   "codemirror_mode": {
    "name": "ipython",
    "version": 3
   },
   "file_extension": ".py",
   "mimetype": "text/x-python",
   "name": "python",
   "nbconvert_exporter": "python",
   "pygments_lexer": "ipython3",
   "version": "3.7.9"
  }
 },
 "nbformat": 4,
 "nbformat_minor": 4
}
